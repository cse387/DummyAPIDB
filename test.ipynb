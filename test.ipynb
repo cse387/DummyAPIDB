{
 "cells": [
  {
   "cell_type": "markdown",
   "metadata": {},
   "source": [
    "### Rest Api hits on https://dummyapi.io/"
   ]
  },
  {
   "cell_type": "code",
   "execution_count": 3,
   "metadata": {},
   "outputs": [
    {
     "data": {
      "text/plain": [
       "['data', 'total', 'page', 'limit']"
      ]
     },
     "execution_count": 3,
     "metadata": {},
     "output_type": "execute_result"
    }
   ],
   "source": [
    "import requests\n",
    "from functools import reduce\n",
    "import psycopg2\n",
    "import pandas as pd\n",
    "from sshtunnel import SSHTunnelForwarder\n",
    "from nose.tools import assert_true,assert_is_none\n",
    "#get full user data\n",
    "#api_url = \"https://dummyapi.io/data/v1/user/60d0fe4f5311236168a109ca\"\n",
    "api_preffix = \"https://dummyapi.io/data/v1/\"\n",
    "api_id = \"6243344d20e61633b2e46ba8\"\n",
    "api_url = \"https://dummyapi.io/data/v1/user?page=1&limit=50\"\n",
    "# api_url = \"https://dummyapi.io/data/v1/user/60d0fe4f5311236168a10a01\"\n",
    "response = requests.get(api_url,  headers={\"app-id\": api_id, \"Content-Type\":\"text\"})\n",
    "response_json = response.json()\n",
    "list(response_json.keys())"
   ]
  },
  {
   "cell_type": "code",
   "execution_count": 4,
   "metadata": {},
   "outputs": [
    {
     "name": "stdout",
     "output_type": "stream",
     "text": [
      "response sample\n",
      "{'data': [{'id': '60d0fe4f5311236168a109fd', 'title': 'mr', 'firstName': 'Dylan', 'lastName': 'Vasquez', 'picture': 'https://randomuser.me/api/portraits/med/men/66.jpg'}, {'id': '60d0fe4f5311236168a109fe', 'title': 'mr', 'firstName': 'AndrÃ©', 'lastName': 'Robert', 'picture': 'https://randomuser.me/api/portraits/med/men/9.jpg'}, {'id': '60d0fe4f5311236168a109ff', 'title': 'mrs', 'firstName': 'Josefina', 'lastName': 'Calvo', 'picture': 'https://randomuser.me/api/portraits/med/women/3.jpg'}, {'id': '60d0fe4f5311236168a10a00', 'title': 'mrs', 'firstName': 'Els', 'lastName': 'Ijsseldijk', 'picture': 'https://randomuser.me/api/portraits/med/women/75.jpg'}, {'id': '60d0fe4f5311236168a10a01', 'title': 'mr', 'firstName': 'Jesus', 'lastName': 'Riley', 'picture': 'https://randomuser.me/api/portraits/med/men/45.jpg'}, {'id': '60d0fe4f5311236168a10a02', 'title': 'mr', 'firstName': 'Cristobal', 'lastName': 'Soler', 'picture': 'https://randomuser.me/api/portraits/med/men/31.jpg'}, {'id': '60d0fe4f5311236168a10a03', 'title': 'mr', 'firstName': 'Andri', 'lastName': 'Leclerc', 'picture': 'https://randomuser.me/api/portraits/med/men/57.jpg'}, {'id': '60d0fe4f5311236168a10a04', 'title': 'mr', 'firstName': 'Konsta', 'lastName': 'Manninen', 'picture': 'https://randomuser.me/api/portraits/med/men/24.jpg'}, {'id': '60d0fe4f5311236168a10a05', 'title': 'ms', 'firstName': 'Ane', 'lastName': 'Frafjord', 'picture': 'https://randomuser.me/api/portraits/med/women/54.jpg'}, {'id': '60d0fe4f5311236168a10a06', 'title': 'mrs', 'firstName': 'OlaÃ\\xad', 'lastName': 'Gomes', 'picture': 'https://randomuser.me/api/portraits/med/women/85.jpg'}, {'id': '60d0fe4f5311236168a10a07', 'title': 'mr', 'firstName': 'Sigmund', 'lastName': 'Myran', 'picture': 'https://randomuser.me/api/portraits/med/men/61.jpg'}, {'id': '60d0fe4f5311236168a10a08', 'title': 'ms', 'firstName': 'Lilja', 'lastName': 'Lampinen', 'picture': 'https://randomuser.me/api/portraits/med/women/50.jpg'}, {'id': '60d0fe4f5311236168a10a09', 'title': 'miss', 'firstName': 'Clea', 'lastName': 'Dubois', 'picture': 'https://randomuser.me/api/portraits/med/women/11.jpg'}, {'id': '60d0fe4f5311236168a10a0a', 'title': 'mr', 'firstName': 'Sandro', 'lastName': 'Guillot', 'picture': 'https://randomuser.me/api/portraits/med/men/8.jpg'}, {'id': '60d0fe4f5311236168a10a0b', 'title': 'miss', 'firstName': 'Margarita', 'lastName': 'Vicente', 'picture': 'https://randomuser.me/api/portraits/med/women/5.jpg'}, {'id': '60d0fe4f5311236168a10a0c', 'title': 'ms', 'firstName': 'Annabel', 'lastName': 'Somby', 'picture': 'https://randomuser.me/api/portraits/med/women/35.jpg'}, {'id': '60d0fe4f5311236168a10a0d', 'title': 'mr', 'firstName': 'Lyam', 'lastName': 'Morin', 'picture': 'https://randomuser.me/api/portraits/med/men/95.jpg'}, {'id': '60d0fe4f5311236168a10a0e', 'title': 'mr', 'firstName': 'Mads', 'lastName': 'Andersen', 'picture': 'https://randomuser.me/api/portraits/med/men/74.jpg'}, {'id': '60d0fe4f5311236168a10a0f', 'title': 'mr', 'firstName': 'Kaya', 'lastName': 'Basoglu', 'picture': 'https://randomuser.me/api/portraits/med/men/59.jpg'}, {'id': '60d0fe4f5311236168a10a10', 'title': 'mr', 'firstName': 'Nenad', 'lastName': 'Leroy', 'picture': 'https://randomuser.me/api/portraits/med/men/62.jpg'}, {'id': '60d0fe4f5311236168a10a11', 'title': 'miss', 'firstName': 'Angeles', 'lastName': 'Gimenez', 'picture': 'https://randomuser.me/api/portraits/med/women/56.jpg'}, {'id': '60d0fe4f5311236168a10a12', 'title': 'mr', 'firstName': 'Kenneth', 'lastName': 'Carter', 'picture': 'https://randomuser.me/api/portraits/med/men/40.jpg'}, {'id': '60d0fe4f5311236168a10a13', 'title': 'mr', 'firstName': 'Jan', 'lastName': 'Siebert', 'picture': 'https://randomuser.me/api/portraits/med/men/60.jpg'}, {'id': '60d0fe4f5311236168a10a14', 'title': 'mr', 'firstName': 'Cameron', 'lastName': 'Mendoza', 'picture': 'https://randomuser.me/api/portraits/med/men/95.jpg'}, {'id': '60d0fe4f5311236168a10a15', 'title': 'mr', 'firstName': 'Benjamin', 'lastName': 'Wilson', 'picture': 'https://randomuser.me/api/portraits/med/men/14.jpg'}, {'id': '60d0fe4f5311236168a10a16', 'title': 'mr', 'firstName': 'Sergio', 'lastName': 'Ferrer', 'picture': 'https://randomuser.me/api/portraits/med/men/29.jpg'}, {'id': '60d0fe4f5311236168a10a17', 'title': 'mrs', 'firstName': 'Emma', 'lastName': 'Jokela', 'picture': 'https://randomuser.me/api/portraits/med/women/46.jpg'}, {'id': '60d0fe4f5311236168a10a18', 'title': 'mr', 'firstName': 'Jeremy', 'lastName': 'Morin', 'picture': 'https://randomuser.me/api/portraits/med/men/60.jpg'}, {'id': '60d0fe4f5311236168a10a19', 'title': 'miss', 'firstName': 'Debbie', 'lastName': 'Garcia', 'picture': 'https://randomuser.me/api/portraits/med/women/86.jpg'}, {'id': '60d0fe4f5311236168a10a1a', 'title': 'mr', 'firstName': 'Vaino', 'lastName': 'Sakala', 'picture': 'https://randomuser.me/api/portraits/med/men/56.jpg'}, {'id': '60d0fe4f5311236168a10a1b', 'title': 'mr', 'firstName': 'Siem', 'lastName': 'Marcelissen', 'picture': 'https://randomuser.me/api/portraits/med/men/38.jpg'}, {'id': '60d0fe4f5311236168a10a1c', 'title': 'miss', 'firstName': 'Abigail', 'lastName': 'Liu', 'picture': 'https://randomuser.me/api/portraits/med/women/83.jpg'}, {'id': '60d0fe4f5311236168a10a1d', 'title': 'mr', 'firstName': 'Eckard', 'lastName': 'Degner', 'picture': 'https://randomuser.me/api/portraits/med/men/41.jpg'}, {'id': '60d0fe4f5311236168a10a1e', 'title': 'mr', 'firstName': 'Niklas', 'lastName': 'Baltzersen', 'picture': 'https://randomuser.me/api/portraits/med/men/2.jpg'}, {'id': '60d0fe4f5311236168a10a1f', 'title': 'mr', 'firstName': 'David', 'lastName': 'Ramos', 'picture': 'https://randomuser.me/api/portraits/med/men/30.jpg'}, {'id': '60d0fe4f5311236168a10a20', 'title': 'mr', 'firstName': 'Mem', 'lastName': 'Rocha', 'picture': 'https://randomuser.me/api/portraits/med/men/59.jpg'}, {'id': '60d0fe4f5311236168a10a21', 'title': 'miss', 'firstName': 'Constance', 'lastName': 'Bourgeois', 'picture': 'https://randomuser.me/api/portraits/med/women/87.jpg'}, {'id': '60d0fe4f5311236168a10a22', 'title': 'mr', 'firstName': 'Nikolaj', 'lastName': 'Larsen', 'picture': 'https://randomuser.me/api/portraits/med/men/22.jpg'}, {'id': '60d0fe4f5311236168a10a23', 'title': 'miss', 'firstName': 'Oya', 'lastName': 'Cetiner', 'picture': 'https://randomuser.me/api/portraits/med/women/66.jpg'}, {'id': '60d0fe4f5311236168a10a24', 'title': 'miss', 'firstName': 'Katie', 'lastName': 'Hughes', 'picture': 'https://randomuser.me/api/portraits/med/women/74.jpg'}, {'id': '60d0fe4f5311236168a10a25', 'title': 'ms', 'firstName': 'Kitty', 'lastName': 'Steward', 'picture': 'https://randomuser.me/api/portraits/med/women/78.jpg'}, {'id': '60d0fe4f5311236168a10a26', 'title': 'mr', 'firstName': 'Elliot', 'lastName': 'Walker', 'picture': 'https://randomuser.me/api/portraits/med/men/53.jpg'}, {'id': '60d0fe4f5311236168a10a27', 'title': 'mr', 'firstName': 'Tomothy', 'lastName': 'Hawkins', 'picture': 'https://randomuser.me/api/portraits/med/men/48.jpg'}, {'id': '60d0fe4f5311236168a10a28', 'title': 'miss', 'firstName': 'OcÃ©ane', 'lastName': 'Denis', 'picture': 'https://randomuser.me/api/portraits/med/women/51.jpg'}, {'id': '60d0fe4f5311236168a10a29', 'title': 'ms', 'firstName': 'Vanessa', 'lastName': 'Ramos', 'picture': 'https://randomuser.me/api/portraits/med/women/33.jpg'}, {'id': '60d0fe4f5311236168a10a2a', 'title': 'mrs', 'firstName': 'Susie', 'lastName': 'Harrison', 'picture': 'https://randomuser.me/api/portraits/med/women/20.jpg'}, {'id': '60d0fe4f5311236168a10a2b', 'title': 'mrs', 'firstName': 'Angelica', 'lastName': 'Roussel', 'picture': 'https://randomuser.me/api/portraits/med/women/53.jpg'}, {'id': '60d0fe4f5311236168a10a2c', 'title': 'mr', 'firstName': 'Toralf', 'lastName': 'Streicher', 'picture': 'https://randomuser.me/api/portraits/med/men/80.jpg'}, {'id': '60d0fe4f5311236168a10a2d', 'title': 'mrs', 'firstName': 'Emilie', 'lastName': 'Lambert', 'picture': 'https://randomuser.me/api/portraits/med/women/93.jpg'}], 'total': 99, 'page': 1, 'limit': 50}\n"
     ]
    }
   ],
   "source": [
    "print(\"response sample :\")\n",
    "print(response_json)"
   ]
  },
  {
   "cell_type": "code",
   "execution_count": 5,
   "metadata": {},
   "outputs": [],
   "source": [
    "# print(assert_true(response.ok))\n",
    "# print(assert_is_none(response))"
   ]
  },
  {
   "cell_type": "markdown",
   "metadata": {},
   "source": [
    "#### Retrieve all records over all pages\n",
    "\n",
    "**retrieve the non-preview records across all page per data object (users, posts, comments))**\n",
    "\n",
    "**ranges within RestAPI clause:**\n",
    "\n",
    "**limit : [5-50]**\n",
    "\n",
    "**pages : [0-999]**"
   ]
  },
  {
   "cell_type": "code",
   "execution_count": 6,
   "metadata": {},
   "outputs": [],
   "source": [
    "def retreive_full_records(object_, api_preffix, api_id, page_upper_limit):\n",
    "    #args: \n",
    "    # object_ : \"user\", \"comment\", \"post\"\n",
    "    # api_preffix : https://dummyapi.io/data/v1/\n",
    "    # api_id : 6243344d20e61633b2e46ba8\n",
    "    # page_upper_limit : [0-999]\n",
    "    records = []\n",
    "    if object_ == \"user\":    \n",
    "        location_dict = {}\n",
    "        key_location = 0\n",
    "        location_records = []    \n",
    "\n",
    "    ### check of duplicated id using the frontier hash map\n",
    "    id_frontier = {}\n",
    "\n",
    "    def check_empty_response(response):    \n",
    "        if \"data\" not in response.keys():\n",
    "            return False    \n",
    "        else:        \n",
    "            if len(response[\"data\"]) == 0:\n",
    "                return False        \n",
    "        return True\n",
    "\n",
    "    def check_duplicated_ids (id_):\n",
    "        nonlocal id_frontier\n",
    "        try:\n",
    "            if id_frontier[id_] == 1:\n",
    "                return False\n",
    "        except :        \n",
    "            id_frontier[id_] = 1\n",
    "        return True\n",
    "\n",
    "    def get_detail_user_record (id_):\n",
    "        ### get the full user information\n",
    "        nonlocal api_preffix, object_, key_location\n",
    "        if check_duplicated_ids(id_):        \n",
    "            record = requests.get(api_preffix+object_+\"/\"+id_,  headers={\"app-id\":api_id, \"Content-Type\":\"text\"}).json()        \n",
    "            print(record)\n",
    "            if 'location' in record.keys():\n",
    "                if len(record['location']) != 0:                \n",
    "                    temp_location = record[\"location\"]\n",
    "                    info_concat = reduce(lambda a, b: a.strip() + b.strip(), list(record[\"location\"].values()))\n",
    "                    \n",
    "                    if info_concat not in location_dict.keys():\n",
    "                        location_dict[info_concat] = key_location\n",
    "                        key_location += 1\n",
    "                    record[\"location\"] = key_location\n",
    "                    temp_location[\"id\"] = key_location\n",
    "                    location_records.append(temp_location)\n",
    "            return record\n",
    "        return None\n",
    "\n",
    "    def sanity_check_posts (record):   \n",
    "        ### check for duplicated ids\n",
    "        if not check_duplicated_ids(record['id']):\n",
    "            return False    \n",
    "        if \"likes\" not in record.keys():\n",
    "            return False\n",
    "        else:\n",
    "            if record[\"likes\"] < 0:\n",
    "                return False\n",
    "        if \"owner\" not in record.keys():\n",
    "            return False\n",
    "        else:\n",
    "            if \"id\" not in record[\"owner\"]:\n",
    "                return False\n",
    "            else:\n",
    "                if record[\"owner\"][\"id\"] == \"\":\n",
    "                    return False\n",
    "        return True\n",
    "\n",
    "    def sanity_check_comments (record): \n",
    "        ### check for duplicated ids\n",
    "        if not check_duplicated_ids(record['id']):\n",
    "            return False    \n",
    "\n",
    "        if \"post\" not in record.keys():\n",
    "            return False\n",
    "        else:\n",
    "            if record[\"post\"] == \"\":\n",
    "                return False\n",
    "\n",
    "        if \"owner\" not in record.keys():\n",
    "            return False\n",
    "        else:\n",
    "            if \"id\" not in record[\"owner\"]:\n",
    "                return False\n",
    "            else:\n",
    "                if record[\"owner\"][\"id\"] == \"\":\n",
    "                    return False\n",
    "        return True\n",
    "\n",
    "    def fix_post_comment_records (record, page, check_post):\n",
    "        if check_post:\n",
    "            if sanity_check_posts(record):\n",
    "                record[\"owner\"] = record[\"owner\"][\"id\"]\n",
    "                record[\"page\"]= page\n",
    "                return record\n",
    "        elif  sanity_check_comments(record):\n",
    "            record[\"owner\"] = record[\"owner\"][\"id\"]\n",
    "            record[\"page\"]= page\n",
    "            return record            \n",
    "        return None\n",
    "\n",
    "    for page in range(0,page_upper_limit):    \n",
    "        api_url = api_preffix+object_+\"?page=\"+str(page)+\"&limit=50\"\n",
    "        response = requests.get(api_url,  headers={\"app-id\":api_id, \"Content-Type\":\"text\"})    \n",
    "        assert_true(response.ok)\n",
    "        response_json = response.json()    \n",
    "        if check_empty_response(response_json):            \n",
    "            #in case the object is user unnest the preview records, extract the location data\n",
    "            if object_ == \"user\":             \n",
    "                records += list(map(lambda x:  get_detail_user_record (x['id']), response_json[\"data\"]))                \n",
    "                #records += [get_detail_user_record (x['id']) for x in response_json[\"data\"]]\n",
    "                \n",
    "            elif object_ == \"post\":\n",
    "                records += list(map(lambda record : fix_post_comment_records(record, page, True), response_json[\"data\"]))\n",
    "                \n",
    "                #records += [fix_post_comment_records(record, page, True) for record in response_json[\"data\"]]\n",
    "            elif object_ == \"comment\":\n",
    "                records += list(map(lambda record : fix_post_comment_records(record, page, False), response_json[\"data\"]))\n",
    "                #records += [fix_post_comment_records(record, page, False) for record in response_json[\"data\"]]\n",
    "        else:\n",
    "            print(\"Page number \",page)\n",
    "            print(response_json)\n",
    "        \n",
    "    records = list(filter(lambda x:x is not None,records))        \n",
    "    \n",
    "    if object_ == \"user\":\n",
    "        \n",
    "        return pd.DataFrame(records), pd.DataFrame(location_records)\n",
    "    \n",
    "    elif object_ == \"post\":        \n",
    "        pages = []\n",
    "        look_up_posts_pages = {}\n",
    "        for p in records:    \n",
    "            key = p[\"id\"]+str(p[\"page\"])\n",
    "            if key not in look_up_posts_pages:\n",
    "                pages.append({'id':p[\"page\"], \"post_id\":p[\"id\"]})\n",
    "                look_up_posts_pages [key] = 1\n",
    "#             del p[\"page\"]\n",
    "        return pd.DataFrame(records), pd.DataFrame(pages)\n",
    "        \n",
    "    return pd.DataFrame(records)"
   ]
  },
  {
   "cell_type": "markdown",
   "metadata": {},
   "source": [
    "_**Fetch user,location, post, comment records over a bunch of 999 pages.**_\n",
    "\n",
    "_**In case you want the fetching to finish earlier reduce the page upper limit - no parralized implementation**_"
   ]
  },
  {
   "cell_type": "code",
   "execution_count": 7,
   "metadata": {},
   "outputs": [
    {
     "name": "stdout",
     "output_type": "stream",
     "text": [
      "Fetching Data....\n",
      "{'id': '60d0fe4f5311236168a109ca', 'title': 'ms', 'firstName': 'Sara', 'lastName': 'Andersen', 'picture': 'https://randomuser.me/api/portraits/women/58.jpg', 'gender': 'female', 'email': 'sara.andersen@example.com', 'dateOfBirth': '1996-04-30T19:26:49.610Z', 'phone': '92694011', 'location': {'street': '9614, SÃ¸ndermarksvej', 'city': 'Kongsvinger', 'state': 'Nordjylland', 'country': 'Denmark', 'timezone': '-9:00'}, 'registerDate': '2021-06-21T21:02:07.374Z', 'updatedDate': '2021-06-21T21:02:07.374Z'}\n",
      "{'id': '60d0fe4f5311236168a109cb', 'title': 'miss', 'firstName': 'Edita', 'lastName': 'Vestering', 'picture': 'https://randomuser.me/api/portraits/med/women/89.jpg', 'gender': 'female', 'email': 'edita.vestering@example.com', 'dateOfBirth': '1956-04-15T00:10:35.555Z', 'phone': '(019)-646-0430', 'location': {'street': '1371, Dilledonk-Zuid', 'city': 'Den Bommel', 'state': 'Gelderland', 'country': 'Netherlands', 'timezone': '-5:00'}, 'registerDate': '2021-06-21T21:02:07.533Z', 'updatedDate': '2021-06-21T21:02:07.533Z'}\n",
      "{'id': '60d0fe4f5311236168a109cc', 'title': 'ms', 'firstName': 'Adina', 'lastName': 'Barbosa', 'picture': 'https://randomuser.me/api/portraits/med/women/28.jpg', 'gender': 'female', 'email': 'edina.barbosa@example.com', 'dateOfBirth': '1952-09-03T13:27:29.424Z', 'phone': '(64) 5796-9260', 'location': {'street': '8750, Rua Carlos Gomes', 'city': 'Recife', 'state': 'CearÃ¡', 'country': 'Brazil', 'timezone': '+1:00'}, 'registerDate': '2021-06-21T21:02:07.719Z', 'updatedDate': '2021-06-21T21:02:07.719Z'}\n",
      "{'id': '60d0fe4f5311236168a109cd', 'title': 'mr', 'firstName': 'Roberto', 'lastName': 'Vega', 'picture': 'https://randomuser.me/api/portraits/med/men/25.jpg', 'gender': 'male', 'email': 'roberto.vega@example.com', 'dateOfBirth': '1945-11-17T06:31:57.367Z', 'phone': '949-368-211', 'location': {'street': '7675, Calle Mota', 'city': 'LogroÃ±o', 'state': 'Islas Baleares', 'country': 'Spain', 'timezone': '+6:00'}, 'registerDate': '2021-06-21T21:02:07.872Z', 'updatedDate': '2021-06-21T21:02:07.872Z'}\n",
      "{'id': '60d0fe4f5311236168a109ce', 'title': 'mr', 'firstName': 'Rudi', 'lastName': 'Droste', 'picture': 'https://randomuser.me/api/portraits/med/men/83.jpg', 'gender': 'male', 'email': 'rudi.droste@example.com', 'dateOfBirth': '1972-08-07T22:16:47.420Z', 'phone': '0421-7342787', 'location': {'street': '1196, MÃ¼hlenweg', 'city': 'GrÃ¼nhain-Beierfeld', 'state': 'Sachsen-Anhalt', 'country': 'Germany', 'timezone': '+3:30'}, 'registerDate': '2021-06-21T21:02:08.029Z', 'updatedDate': '2021-06-21T21:02:08.029Z'}\n",
      "{'id': '60d0fe4f5311236168a109cf', 'title': 'mrs', 'firstName': 'Carolina', 'lastName': 'Lima', 'picture': 'https://randomuser.me/api/portraits/med/women/5.jpg', 'gender': 'female', 'email': 'carolina.lima@example.com', 'dateOfBirth': '1994-03-04T03:04:53.673Z', 'phone': '(79) 9932-2522', 'location': {'street': '4162, Rua da Paz ', 'city': 'Boa Vista', 'state': 'Rio Grande do Norte', 'country': 'Brazil', 'timezone': '-4:00'}, 'registerDate': '2021-06-21T21:02:08.193Z', 'updatedDate': '2021-06-21T21:02:08.193Z'}\n",
      "{'id': '60d0fe4f5311236168a109d0', 'title': 'mr', 'firstName': 'Emre', 'lastName': 'Asikoglu', 'picture': 'https://randomuser.me/api/portraits/med/men/23.jpg', 'gender': 'male', 'email': 'emre.asikoglu@example.com', 'dateOfBirth': '1964-12-08T16:34:53.710Z', 'phone': '(886)-854-5524', 'location': {'street': '3682, Fatih Sultan Mehmet Cd', 'city': 'KÃ¼tahya', 'state': 'Manisa', 'country': 'Turkey', 'timezone': '-9:00'}, 'registerDate': '2021-06-21T21:02:08.346Z', 'updatedDate': '2021-06-21T21:02:08.346Z'}\n",
      "{'id': '60d0fe4f5311236168a109d1', 'title': 'mr', 'firstName': 'Kent', 'lastName': 'Brewer', 'picture': 'https://randomuser.me/api/portraits/med/men/52.jpg', 'gender': 'male', 'email': 'kent.brewer@example.com', 'dateOfBirth': '1955-07-19T00:57:14.606Z', 'phone': '021-351-5186', 'location': {'street': '4015, Station Road', 'city': 'Buncrana', 'state': 'Roscommon', 'country': 'Ireland', 'timezone': '+6:00'}, 'registerDate': '2021-06-21T21:02:08.506Z', 'updatedDate': '2021-06-21T21:02:08.506Z'}\n",
      "{'id': '60d0fe4f5311236168a109d2', 'title': 'mr', 'firstName': 'Evan', 'lastName': 'Carlson', 'picture': 'https://randomuser.me/api/portraits/med/men/80.jpg', 'gender': 'male', 'email': 'evan.carlson@example.com', 'dateOfBirth': '1964-09-26T20:40:33.623Z', 'phone': '0118501 366 9206', 'location': {'street': '2944, Kings Road', 'city': 'Southampton', 'state': 'Devon', 'country': 'United Kingdom', 'timezone': '+3:00'}, 'registerDate': '2021-06-21T21:02:08.707Z', 'updatedDate': '2021-06-21T21:02:08.707Z'}\n",
      "{'id': '60d0fe4f5311236168a109d3', 'title': 'mr', 'firstName': 'Friedrich-Karl', 'lastName': 'Brand', 'picture': 'https://randomuser.me/api/portraits/med/men/7.jpg', 'gender': 'male', 'email': 'friedrich-karl.brand@example.com', 'dateOfBirth': '1984-11-07T01:44:23.697Z', 'phone': '0982-2127379', 'location': {'street': '7297, Erlenweg', 'city': 'Naumburg', 'state': 'Sachsen', 'country': 'Germany', 'timezone': '-2:00'}, 'registerDate': '2021-06-21T21:02:08.861Z', 'updatedDate': '2021-06-21T21:02:08.861Z'}\n",
      "{'id': '60d0fe4f5311236168a109d4', 'title': 'mr', 'firstName': 'Valentin', 'lastName': 'Ortega', 'picture': 'https://randomuser.me/api/portraits/med/men/3.jpg', 'gender': 'male', 'email': 'valentin.ortega@example.com', 'dateOfBirth': '1953-10-15T02:26:17.794Z', 'phone': '993-465-335', 'location': {'street': '2580, Calle de Ferraz', 'city': 'Albacete', 'state': 'Islas Baleares', 'country': 'Spain', 'timezone': '-3:30'}, 'registerDate': '2021-06-21T21:02:09.050Z', 'updatedDate': '2021-06-21T21:02:09.050Z'}\n",
      "{'id': '60d0fe4f5311236168a109d5', 'title': 'mrs', 'firstName': 'Sibylle', 'lastName': 'Leibold', 'picture': 'https://randomuser.me/api/portraits/med/women/89.jpg', 'gender': 'female', 'email': 'sibylle.leibold@example.com', 'dateOfBirth': '1980-12-21T09:19:00.529Z', 'phone': '0221-3659630', 'location': {'street': '138, RosenstraÃŸe', 'city': 'Heimbach', 'state': 'Sachsen', 'country': 'Germany', 'timezone': '-6:00'}, 'registerDate': '2021-06-21T21:02:09.202Z', 'updatedDate': '2021-06-21T21:02:09.202Z'}\n",
      "{'id': '60d0fe4f5311236168a109d6', 'title': 'mrs', 'firstName': 'Elisa', 'lastName': 'Lorenzo', 'picture': 'https://randomuser.me/api/portraits/med/women/89.jpg', 'gender': 'female', 'email': 'elisa.lorenzo@example.com', 'dateOfBirth': '1964-04-12T15:53:58.608Z', 'phone': '991-948-802', 'location': {'street': '9038, Avenida de Burgos', 'city': 'Granada', 'state': 'Cantabria', 'country': 'Spain', 'timezone': '-4:00'}, 'registerDate': '2021-06-21T21:02:09.357Z', 'updatedDate': '2021-06-21T21:02:09.357Z'}\n",
      "{'id': '60d0fe4f5311236168a109d7', 'title': 'mr', 'firstName': 'Leevi', 'lastName': 'Savela', 'picture': 'https://randomuser.me/api/portraits/med/men/67.jpg', 'gender': 'male', 'email': 'leevi.savela@example.com', 'dateOfBirth': '1980-12-19T12:11:14.893Z', 'phone': '02-200-101', 'location': {'street': '4013, HÃ¤meentie', 'city': 'Malax', 'state': 'Southern Ostrobothnia', 'country': 'Finland', 'timezone': '+1:00'}, 'registerDate': '2021-06-21T21:02:09.541Z', 'updatedDate': '2021-06-21T21:02:09.541Z'}\n",
      "{'id': '60d0fe4f5311236168a109d8', 'title': 'mrs', 'firstName': 'Karoline', 'lastName': 'Sviggum', 'picture': 'https://randomuser.me/api/portraits/med/women/61.jpg', 'gender': 'female', 'email': 'karoline.sviggum@example.com', 'dateOfBirth': '1970-01-04T08:27:48.279Z', 'phone': '73332504', 'location': {'street': '4192, Finnhaugveien', 'city': 'SÃ¦tre', 'state': 'Finnmark - FinnmÃ¡rku', 'country': 'Norway', 'timezone': '0:00'}, 'registerDate': '2021-06-21T21:02:09.697Z', 'updatedDate': '2021-06-21T21:02:09.697Z'}\n",
      "{'id': '60d0fe4f5311236168a109d9', 'title': 'ms', 'firstName': 'Nuria', 'lastName': 'Leon', 'picture': 'https://randomuser.me/api/portraits/med/women/93.jpg', 'gender': 'female', 'email': 'nuria.leon@example.com', 'dateOfBirth': '1972-07-12T20:39:35.212Z', 'phone': '944-895-312', 'location': {'street': '230, Calle de Ã\\x81ngel GarcÃ\\xada', 'city': 'Sevilla', 'state': 'Comunidad Valenciana', 'country': 'Spain', 'timezone': '+7:00'}, 'registerDate': '2021-06-21T21:02:09.870Z', 'updatedDate': '2021-06-21T21:02:09.870Z'}\n",
      "{'id': '60d0fe4f5311236168a109da', 'title': 'mr', 'firstName': 'Lance', 'lastName': 'Foster', 'picture': 'https://randomuser.me/api/portraits/med/men/13.jpg', 'gender': 'male', 'email': 'lance.foster@example.com', 'dateOfBirth': '1971-08-29T22:05:26.775Z', 'phone': '0101 451 3221', 'location': {'street': '2334, Church Street', 'city': 'Chichester', 'state': 'Cornwall', 'country': 'United Kingdom', 'timezone': '-3:00'}, 'registerDate': '2021-06-21T21:02:10.075Z', 'updatedDate': '2021-06-21T21:02:10.075Z'}\n"
     ]
    },
    {
     "name": "stdout",
     "output_type": "stream",
     "text": [
      "{'id': '60d0fe4f5311236168a109db', 'title': 'miss', 'firstName': 'Naomi', 'lastName': 'Rodrigues', 'picture': 'https://randomuser.me/api/portraits/med/women/39.jpg', 'gender': 'female', 'email': 'naomi.rodrigues@example.com', 'dateOfBirth': '1973-06-13T23:33:31.385Z', 'phone': '(40) 6623-4814', 'location': {'street': '9134, Rua Castro Alves ', 'city': 'Garanhuns', 'state': 'Roraima', 'country': 'Brazil', 'timezone': '+9:00'}, 'registerDate': '2021-06-21T21:02:10.280Z', 'updatedDate': '2021-06-21T21:02:10.280Z'}\n",
      "{'id': '60d0fe4f5311236168a109dc', 'title': 'mr', 'firstName': 'Evan', 'lastName': 'Roux', 'picture': 'https://randomuser.me/api/portraits/med/men/59.jpg', 'gender': 'male', 'email': 'evan.roux@example.com', 'dateOfBirth': '1988-06-25T04:31:51.701Z', 'phone': '02-28-80-43-91', 'location': {'street': '892, Grande Rue', 'city': 'BesanÃ§on', 'state': 'Seine-et-Marne', 'country': 'France', 'timezone': '+9:00'}, 'registerDate': '2021-06-21T21:02:10.491Z', 'updatedDate': '2021-06-21T21:02:10.491Z'}\n",
      "{'id': '60d0fe4f5311236168a109dd', 'title': 'mr', 'firstName': 'Miguel', 'lastName': 'Lima', 'picture': 'https://randomuser.me/api/portraits/med/men/31.jpg', 'gender': 'male', 'email': 'miguel.lima@example.com', 'dateOfBirth': '1979-07-05T22:21:32.623Z', 'phone': '(33) 1399-0495', 'location': {'street': '9637, Rua Rio de Janeiro ', 'city': 'Cascavel', 'state': 'AmapÃ¡', 'country': 'Brazil', 'timezone': '+4:00'}, 'registerDate': '2021-06-21T21:02:10.647Z', 'updatedDate': '2021-06-21T21:02:10.647Z'}\n",
      "{'id': '60d0fe4f5311236168a109de', 'title': 'miss', 'firstName': 'Bessie', 'lastName': 'Burke', 'picture': 'https://randomuser.me/api/portraits/med/women/72.jpg', 'gender': 'female', 'email': 'bessie.burke@example.com', 'dateOfBirth': '1953-07-29T09:05:23.955Z', 'phone': '01-4715-0408', 'location': {'street': '6507, Groveland Terrace', 'city': 'Sydney', 'state': 'New South Wales', 'country': 'Australia', 'timezone': '-2:00'}, 'registerDate': '2021-06-21T21:02:10.801Z', 'updatedDate': '2021-06-21T21:02:10.801Z'}\n",
      "{'id': '60d0fe4f5311236168a109df', 'title': 'mrs', 'firstName': 'Anaelle', 'lastName': 'Dumas', 'picture': 'https://randomuser.me/api/portraits/med/women/25.jpg', 'gender': 'female', 'email': 'anaelle.dumas@example.com', 'dateOfBirth': '1982-05-31T19:23:30.931Z', 'phone': '01-01-80-11-67', 'location': {'street': '3970, Boulevard de la DuchÃ¨re', 'city': 'Pau', 'state': 'Moselle', 'country': 'France', 'timezone': '-9:00'}, 'registerDate': '2021-06-21T21:02:10.953Z', 'updatedDate': '2021-06-21T21:02:10.953Z'}\n",
      "{'id': '60d0fe4f5311236168a109e0', 'title': 'miss', 'firstName': 'Milly', 'lastName': 'Norman', 'picture': 'https://randomuser.me/api/portraits/med/women/31.jpg', 'gender': 'female', 'email': 'milly.norman@example.com', 'dateOfBirth': '1975-08-25T06:11:36.092Z', 'phone': '60372975', 'location': {'street': '280, Nordsetergrenda', 'city': 'PrestegÃ¥rdshagen', 'state': 'Sogn og Fjordane', 'country': 'Norway', 'timezone': '-3:00'}, 'registerDate': '2021-06-21T21:02:11.106Z', 'updatedDate': '2021-06-21T21:02:11.106Z'}\n",
      "{'id': '60d0fe4f5311236168a109e1', 'title': 'mr', 'firstName': 'James', 'lastName': 'Black', 'picture': 'https://randomuser.me/api/portraits/med/men/29.jpg', 'gender': 'male', 'email': 'james.black@example.com', 'dateOfBirth': '1965-08-18T22:58:36.318Z', 'phone': '09-9856-3784', 'location': {'street': '5147, Thornridge Cir', 'city': 'Bowral', 'state': 'Tasmania', 'country': 'Australia', 'timezone': '+1:00'}, 'registerDate': '2021-06-21T21:02:11.263Z', 'updatedDate': '2021-06-21T21:02:11.263Z'}\n",
      "{'id': '60d0fe4f5311236168a109e2', 'title': 'mr', 'firstName': 'Heinz-Georg', 'lastName': 'Fiedler', 'picture': 'https://randomuser.me/api/portraits/med/men/81.jpg', 'gender': 'male', 'email': 'heinz-georg.fiedler@example.com', 'dateOfBirth': '1974-03-12T21:15:08.878Z', 'phone': '0700-3090279', 'location': {'street': '4118, SchulstraÃŸe', 'city': 'Fellbach', 'state': 'Rheinland-Pfalz', 'country': 'Germany', 'timezone': '-7:00'}, 'registerDate': '2021-06-21T21:02:11.417Z', 'updatedDate': '2021-06-21T21:02:11.417Z'}\n",
      "{'id': '60d0fe4f5311236168a109e3', 'title': 'mr', 'firstName': 'Vetle', 'lastName': 'Aasland', 'picture': 'https://randomuser.me/api/portraits/med/men/97.jpg', 'gender': 'male', 'email': 'vetle.aasland@example.com', 'dateOfBirth': '1949-09-09T06:22:16.422Z', 'phone': '81142945', 'location': {'street': '906, Risstubben', 'city': 'Kaland', 'state': 'Vest-Agder', 'country': 'Norway', 'timezone': '0:00'}, 'registerDate': '2021-06-21T21:02:11.609Z', 'updatedDate': '2021-06-21T21:02:11.609Z'}\n",
      "{'id': '60d0fe4f5311236168a109e4', 'title': 'mr', 'firstName': 'Pwry', 'lastName': 'Shylyrd', 'picture': 'https://randomuser.me/api/portraits/med/men/37.jpg', 'gender': 'male', 'email': 'pwry.shylyrd@example.com', 'dateOfBirth': '1952-09-02T23:52:42.504Z', 'phone': '053-79829918', 'location': {'street': '324, Ù…ÛŒØ¯Ø§Ù† Ø´Ù‡ÛŒØ¯Ø§Ù† Ø±Ø\\xadÛŒÙ…ÛŒ', 'city': 'Ù¾Ø§Ú©Ø¯Ø´Øª', 'state': 'Ø¢Ø°Ø±Ø¨Ø§ÛŒØ¬Ø§Ù† Ø´Ø±Ù‚ÛŒ', 'country': 'Iran', 'timezone': '+1:00'}, 'registerDate': '2021-06-21T21:02:11.770Z', 'updatedDate': '2021-06-21T21:02:11.770Z'}\n",
      "{'id': '60d0fe4f5311236168a109e5', 'title': 'mr', 'firstName': 'Adrian', 'lastName': 'Rodriguez', 'picture': 'https://randomuser.me/api/portraits/med/men/45.jpg', 'gender': 'male', 'email': 'adrian.rodriguez@example.com', 'dateOfBirth': '1955-10-22T02:54:44.217Z', 'phone': '08-3049-4902', 'location': {'street': '8062, Photinia Ave', 'city': 'Maitland', 'state': 'Victoria', 'country': 'Australia', 'timezone': '-9:00'}, 'registerDate': '2021-06-21T21:02:11.926Z', 'updatedDate': '2021-06-21T21:02:11.926Z'}\n",
      "{'id': '60d0fe4f5311236168a109e6', 'title': 'miss', 'firstName': 'Milla', 'lastName': 'Pollari', 'picture': 'https://randomuser.me/api/portraits/med/women/89.jpg', 'gender': 'female', 'email': 'milla.pollari@example.com', 'dateOfBirth': '1993-03-07T15:42:40.183Z', 'phone': '09-276-350', 'location': {'street': '3914, Hermiankatu', 'city': 'Kannonkoski', 'state': 'Pirkanmaa', 'country': 'Finland', 'timezone': '+11:00'}, 'registerDate': '2021-06-21T21:02:12.110Z', 'updatedDate': '2021-06-21T21:02:12.110Z'}\n",
      "{'id': '60d0fe4f5311236168a109e7', 'title': 'mr', 'firstName': 'Joey', 'lastName': 'Oliver', 'picture': 'https://randomuser.me/api/portraits/med/men/61.jpg', 'gender': 'male', 'email': 'joey.oliver@example.com', 'dateOfBirth': '1990-02-18T09:52:06.627Z', 'phone': '015242 92081', 'location': {'street': '965, St. Johnâ€™S Road', 'city': 'Liverpool', 'state': 'Fife', 'country': 'United Kingdom', 'timezone': '-11:00'}, 'registerDate': '2021-06-21T21:02:12.327Z', 'updatedDate': '2021-06-21T21:02:12.327Z'}\n",
      "{'id': '60d0fe4f5311236168a109e8', 'title': 'mrs', 'firstName': 'Cecilie', 'lastName': 'Mortensen', 'picture': 'https://randomuser.me/api/portraits/med/women/56.jpg', 'gender': 'female', 'email': 'cecilie.mortensen@example.com', 'dateOfBirth': '1981-03-25T21:08:23.861Z', 'phone': '86479089', 'location': {'street': '2563, TranebÃ¦rvej', 'city': 'Sundby', 'state': 'Syddanmark', 'country': 'Denmark', 'timezone': '-8:00'}, 'registerDate': '2021-06-21T21:02:12.531Z', 'updatedDate': '2021-06-21T21:02:12.531Z'}\n",
      "{'id': '60d0fe4f5311236168a109e9', 'title': 'mr', 'firstName': 'Alfredo', 'lastName': 'Omahony', 'picture': 'https://randomuser.me/api/portraits/med/men/76.jpg', 'gender': 'male', 'email': 'alfredo.omahony@example.com', 'dateOfBirth': '1986-08-30T10:34:23.714Z', 'phone': '071-658-1372', 'location': {'street': '3318, Dame Street', 'city': 'Portlaoise', 'state': 'Louth', 'country': 'Ireland', 'timezone': '-11:00'}, 'registerDate': '2021-06-21T21:02:12.737Z', 'updatedDate': '2021-06-21T21:02:12.737Z'}\n",
      "{'id': '60d0fe4f5311236168a109ea', 'title': 'mrs', 'firstName': 'Mhrs', 'lastName': 'Hsyny', 'picture': 'https://randomuser.me/api/portraits/med/women/77.jpg', 'gender': 'female', 'email': 'mhrs.hsyny@example.com', 'dateOfBirth': '1959-11-05T08:33:26.306Z', 'phone': '022-88890337', 'location': {'street': '9007, Ø®Ø§ÙˆØ±Ø§Ù†', 'city': 'Ø¨Ø±ÙˆØ¬Ø±Ø¯', 'state': 'Ø¢Ø°Ø±Ø¨Ø§ÛŒØ¬Ø§Ù† Ø´Ø±Ù‚ÛŒ', 'country': 'Iran', 'timezone': '-3:30'}, 'registerDate': '2021-06-21T21:02:12.941Z', 'updatedDate': '2021-06-21T21:02:12.941Z'}\n",
      "{'id': '60d0fe4f5311236168a109eb', 'title': 'ms', 'firstName': 'Nella', 'lastName': 'Koivisto', 'picture': 'https://randomuser.me/api/portraits/med/women/77.jpg', 'gender': 'female', 'email': 'nella.koivisto@example.com', 'dateOfBirth': '1993-06-22T23:43:36.117Z', 'phone': '08-493-479', 'location': {'street': '6774, Satakennankatu', 'city': 'Kuusamo', 'state': 'Northern Ostrobothnia', 'country': 'Finland', 'timezone': '-4:00'}, 'registerDate': '2021-06-21T21:02:13.122Z', 'updatedDate': '2021-06-21T21:02:13.122Z'}\n"
     ]
    },
    {
     "name": "stdout",
     "output_type": "stream",
     "text": [
      "{'id': '60d0fe4f5311236168a109ec', 'title': 'mr', 'firstName': 'Lucas', 'lastName': 'Larsen', 'picture': 'https://randomuser.me/api/portraits/med/men/50.jpg', 'gender': 'male', 'email': 'lucas.larsen@example.com', 'dateOfBirth': '1987-04-04T15:06:47.176Z', 'phone': '54946998', 'location': {'street': '4187, Nattergalevej', 'city': 'St.MerlÃ¸se', 'state': 'Syddanmark', 'country': 'Denmark', 'timezone': '-3:00'}, 'registerDate': '2021-06-21T21:02:13.276Z', 'updatedDate': '2021-06-21T21:02:13.276Z'}\n",
      "{'id': '60d0fe4f5311236168a109ed', 'title': 'miss', 'firstName': 'Kayla', 'lastName': 'Bredesen', 'picture': 'https://randomuser.me/api/portraits/med/women/13.jpg', 'gender': 'female', 'email': 'kayla.bredesen@example.com', 'dateOfBirth': '1958-08-20T08:43:07.057Z', 'phone': '80844280', 'location': {'street': '5225, Hansemyrveien', 'city': 'Vingrom', 'state': 'Finnmark - FinnmÃ¡rku', 'country': 'Norway', 'timezone': '+11:00'}, 'registerDate': '2021-06-21T21:02:13.446Z', 'updatedDate': '2021-06-21T21:02:13.446Z'}\n",
      "{'id': '60d0fe4f5311236168a109ee', 'title': 'mrs', 'firstName': 'Beatriz', 'lastName': 'Gutierrez', 'picture': 'https://randomuser.me/api/portraits/med/women/31.jpg', 'gender': 'female', 'email': 'beatriz.gutierrez@example.com', 'dateOfBirth': '1949-02-02T04:02:25.980Z', 'phone': '946-485-827', 'location': {'street': '7241, Calle de Arturo Soria', 'city': 'TorrejÃ³n de Ardoz', 'state': 'Comunidad de Madrid', 'country': 'Spain', 'timezone': '-3:00'}, 'registerDate': '2021-06-21T21:02:13.638Z', 'updatedDate': '2021-06-21T21:02:13.638Z'}\n",
      "{'id': '60d0fe4f5311236168a109ef', 'title': 'miss', 'firstName': 'Melanie', 'lastName': 'Pilz', 'picture': 'https://randomuser.me/api/portraits/med/women/32.jpg', 'gender': 'female', 'email': 'melanie.pilz@example.com', 'dateOfBirth': '1951-01-26T06:05:28.427Z', 'phone': '0704-9599710', 'location': {'street': '3115, Am Bahnhof', 'city': 'AngermÃ¼nde', 'state': 'Bremen', 'country': 'Germany', 'timezone': '-10:00'}, 'registerDate': '2021-06-21T21:02:13.790Z', 'updatedDate': '2021-06-21T21:02:13.790Z'}\n",
      "{'id': '60d0fe4f5311236168a109f0', 'title': 'mr', 'firstName': 'Wouter-Jan', 'lastName': 'Wijnker', 'picture': 'https://randomuser.me/api/portraits/med/men/67.jpg', 'gender': 'male', 'email': 'wouter-jan.wijnker@example.com', 'dateOfBirth': '1953-11-04T12:17:50.383Z', 'phone': '(825)-445-7283', 'location': {'street': '7503, Broenenbergweg', 'city': 'Graft', 'state': 'Limburg', 'country': 'Netherlands', 'timezone': '+11:00'}, 'registerDate': '2021-06-21T21:02:13.964Z', 'updatedDate': '2021-06-21T21:02:13.964Z'}\n",
      "{'id': '60d0fe4f5311236168a109f2', 'title': 'mr', 'firstName': 'Albert', 'lastName': 'Diez', 'picture': 'https://randomuser.me/api/portraits/med/men/73.jpg', 'gender': 'male', 'email': 'albert.diez@example.com', 'dateOfBirth': '1962-12-01T18:15:19.055Z', 'phone': '940-877-554', 'location': {'street': '1866, Calle del Pez', 'city': 'Pozuelo de AlarcÃ³n', 'state': 'Melilla', 'country': 'Spain', 'timezone': '+4:00'}, 'registerDate': '2021-06-21T21:02:14.289Z', 'updatedDate': '2021-06-21T21:02:14.289Z'}\n",
      "{'id': '60d0fe4f5311236168a109f3', 'title': 'mr', 'firstName': 'Donald', 'lastName': 'Hopkins', 'picture': 'https://randomuser.me/api/portraits/med/men/73.jpg', 'gender': 'male', 'email': 'donald.hopkins@example.com', 'dateOfBirth': '1976-10-02T17:55:48.463Z', 'phone': '01587 81675', 'location': {'street': '1134, The Drive', 'city': 'Exeter', 'state': 'Gloucestershire', 'country': 'United Kingdom', 'timezone': '-8:00'}, 'registerDate': '2021-06-21T21:02:14.440Z', 'updatedDate': '2021-06-21T21:02:14.440Z'}\n",
      "{'id': '60d0fe4f5311236168a109f4', 'title': 'mr', 'firstName': 'Benjamin', 'lastName': 'Holland', 'picture': 'https://randomuser.me/api/portraits/med/men/58.jpg', 'gender': 'male', 'email': 'benjamin.holland@example.com', 'dateOfBirth': '1957-12-06T20:16:54.313Z', 'phone': '(185)-414-9013', 'location': {'street': '9785, Bruce St', 'city': 'Rancho Cucamonga', 'state': 'New Jersey', 'country': 'United States', 'timezone': '+3:00'}, 'registerDate': '2021-06-21T21:02:14.594Z', 'updatedDate': '2021-06-21T21:02:14.594Z'}\n",
      "{'id': '60d0fe4f5311236168a109f5', 'title': 'ms', 'firstName': 'Charlotte', 'lastName': 'Legrand', 'picture': 'https://randomuser.me/api/portraits/med/women/77.jpg', 'gender': 'female', 'email': 'charlotte.legrand@example.com', 'dateOfBirth': '1965-04-16T01:07:53.814Z', 'phone': '04-76-29-33-42', 'location': {'street': '9613, Rue Dumenge', 'city': 'OrlÃ©ans', 'state': 'Loire', 'country': 'France', 'timezone': '-11:00'}, 'registerDate': '2021-06-21T21:02:14.787Z', 'updatedDate': '2021-06-21T21:02:14.787Z'}\n",
      "{'id': '60d0fe4f5311236168a109f6', 'title': 'miss', 'firstName': 'Madison', 'lastName': 'Ambrose', 'picture': 'https://randomuser.me/api/portraits/med/women/15.jpg', 'gender': 'female', 'email': 'madison.ambrose@example.com', 'dateOfBirth': '1947-04-14T14:44:52.955Z', 'phone': '756-040-5467', 'location': {'street': '4122, Stanley Way', 'city': 'Cornwall', 'state': 'British Columbia', 'country': 'Canada', 'timezone': '+6:00'}, 'registerDate': '2021-06-21T21:02:14.988Z', 'updatedDate': '2021-06-21T21:02:14.988Z'}\n",
      "{'id': '60d0fe4f5311236168a109f7', 'title': 'mrs', 'firstName': 'Jolanda', 'lastName': 'Lacroix', 'picture': 'https://randomuser.me/api/portraits/med/women/32.jpg', 'gender': 'female', 'email': 'jolanda.lacroix@example.com', 'dateOfBirth': '1979-11-25T21:56:06.020Z', 'phone': '077 774 36 67', 'location': {'street': '2881, Rue des Ecrivains', 'city': 'Valsot', 'state': 'Basel-Landschaft', 'country': 'Switzerland', 'timezone': '-10:00'}, 'registerDate': '2021-06-21T21:02:15.194Z', 'updatedDate': '2021-06-21T21:02:15.194Z'}\n",
      "{'id': '60d0fe4f5311236168a109f8', 'title': 'ms', 'firstName': 'Signe', 'lastName': 'Madsen', 'picture': 'https://randomuser.me/api/portraits/med/women/84.jpg', 'gender': 'female', 'email': 'signe.madsen@example.com', 'dateOfBirth': '1976-12-29T06:23:56.452Z', 'phone': '08830603', 'location': {'street': '658, Ã…kandevej', 'city': 'Roslev', 'state': 'Hovedstaden', 'country': 'Denmark', 'timezone': '-12:00'}, 'registerDate': '2021-06-21T21:02:15.399Z', 'updatedDate': '2021-06-21T21:02:15.399Z'}\n",
      "{'id': '60d0fe4f5311236168a109f9', 'title': 'mr', 'firstName': 'Marius', 'lastName': 'Larsen', 'picture': 'https://randomuser.me/api/portraits/med/men/54.jpg', 'gender': 'male', 'email': 'marius.larsen@example.com', 'dateOfBirth': '1978-02-13T03:05:10.004Z', 'phone': '47372721', 'location': {'street': '4476, FasanvÃ¦nget', 'city': 'Hammel', 'state': 'Midtjylland', 'country': 'Denmark', 'timezone': '0:00'}, 'registerDate': '2021-06-21T21:02:15.551Z', 'updatedDate': '2021-06-21T21:02:15.551Z'}\n",
      "{'id': '60d0fe4f5311236168a109fa', 'title': 'ms', 'firstName': 'Ann', 'lastName': 'Mason', 'picture': 'https://randomuser.me/api/portraits/med/women/18.jpg', 'gender': 'female', 'email': 'ann.mason@example.com', 'dateOfBirth': '1959-09-26T07:05:56.725Z', 'phone': '(385)-245-2517', 'location': {'street': '2698, Paddock Way', 'city': 'Orange', 'state': 'Wyoming', 'country': 'United States', 'timezone': '+3:00'}, 'registerDate': '2021-06-21T21:02:15.705Z', 'updatedDate': '2021-06-21T21:02:15.705Z'}\n",
      "{'id': '60d0fe4f5311236168a109fb', 'title': 'mr', 'firstName': 'Sohan', 'lastName': 'Pierre', 'picture': 'https://randomuser.me/api/portraits/med/men/77.jpg', 'gender': 'male', 'email': 'sohan.pierre@example.com', 'dateOfBirth': '1957-08-06T17:06:45.433Z', 'phone': '01-48-91-17-38', 'location': {'street': '8234, Avenue de la LibÃ©ration', 'city': 'NÃ®mes', 'state': 'Essonne', 'country': 'France', 'timezone': '+9:30'}, 'registerDate': '2021-06-21T21:02:15.860Z', 'updatedDate': '2021-06-21T21:02:15.860Z'}\n",
      "{'id': '60d0fe4f5311236168a109fc', 'title': 'mr', 'firstName': 'Gonzaga', 'lastName': 'Ribeiro', 'picture': 'https://randomuser.me/api/portraits/med/men/10.jpg', 'gender': 'male', 'email': 'gonzaga.ribeiro@example.com', 'dateOfBirth': '1958-01-25T13:47:27.907Z', 'phone': '(74) 9172-2230', 'location': {'street': '7705, Rua Mato Grosso ', 'city': 'Juazeiro', 'state': 'Mato Grosso', 'country': 'Brazil', 'timezone': '-6:00'}, 'registerDate': '2021-06-21T21:02:16.014Z', 'updatedDate': '2021-06-21T21:02:16.014Z'}\n",
      "{'id': '60d0fe4f5311236168a109fd', 'title': 'mr', 'firstName': 'Dylan', 'lastName': 'Vasquez', 'picture': 'https://randomuser.me/api/portraits/med/men/66.jpg', 'gender': 'male', 'email': 'dylan.vasquez@example.com', 'dateOfBirth': '1996-01-25T23:16:26.578Z', 'phone': '017684 69068', 'location': {'street': '218, The Crescent', 'city': 'Sunderland', 'state': 'Rutland', 'country': 'United Kingdom', 'timezone': '-1:00'}, 'registerDate': '2021-06-21T21:02:16.169Z', 'updatedDate': '2021-06-21T21:02:16.169Z'}\n"
     ]
    },
    {
     "name": "stdout",
     "output_type": "stream",
     "text": [
      "{'id': '60d0fe4f5311236168a109fe', 'title': 'mr', 'firstName': 'AndrÃ©', 'lastName': 'Robert', 'picture': 'https://randomuser.me/api/portraits/med/men/9.jpg', 'gender': 'male', 'email': 'andre.robert@example.com', 'dateOfBirth': '1960-04-08T15:04:24.730Z', 'phone': '077 689 97 19', 'location': {'street': '5684, Rue Denfert-Rochereau', 'city': 'Unterlangenegg', 'state': 'Fribourg', 'country': 'Switzerland', 'timezone': '-12:00'}, 'registerDate': '2021-06-21T21:02:16.329Z', 'updatedDate': '2021-06-21T21:02:16.329Z'}\n",
      "{'id': '60d0fe4f5311236168a109ff', 'title': 'mrs', 'firstName': 'Josefina', 'lastName': 'Calvo', 'picture': 'https://randomuser.me/api/portraits/med/women/3.jpg', 'gender': 'female', 'email': 'josefina.calvo@example.com', 'dateOfBirth': '1982-01-27T16:01:51.717Z', 'phone': '976-538-478', 'location': {'street': '8941, Calle de Argumosa', 'city': 'Orihuela', 'state': 'Ceuta', 'country': 'Spain', 'timezone': '0:00'}, 'registerDate': '2021-06-21T21:02:16.491Z', 'updatedDate': '2021-06-21T21:02:16.491Z'}\n",
      "{'id': '60d0fe4f5311236168a10a00', 'title': 'mrs', 'firstName': 'Els', 'lastName': 'Ijsseldijk', 'picture': 'https://randomuser.me/api/portraits/med/women/75.jpg', 'gender': 'female', 'email': 'els.ijsseldijk@example.com', 'dateOfBirth': '1954-02-24T09:58:32.344Z', 'phone': '(139)-150-5309', 'location': {'street': '5651, Gerardusweg', 'city': 'Allingawier', 'state': 'Gelderland', 'country': 'Netherlands', 'timezone': '-11:00'}, 'registerDate': '2021-06-21T21:02:16.646Z', 'updatedDate': '2021-06-21T21:02:16.646Z'}\n",
      "{'id': '60d0fe4f5311236168a10a01', 'title': 'mr', 'firstName': 'Jesus', 'lastName': 'Riley', 'picture': 'https://randomuser.me/api/portraits/med/men/45.jpg', 'gender': 'male', 'email': 'jesus.riley@example.com', 'dateOfBirth': '1960-08-20T08:36:37.039Z', 'phone': '02-2018-4571', 'location': {'street': '6786, Pecan Acres Ln', 'city': 'Perth', 'state': 'New South Wales', 'country': 'Australia', 'timezone': '+4:30'}, 'registerDate': '2021-06-21T21:02:16.799Z', 'updatedDate': '2021-06-21T21:02:16.799Z'}\n",
      "{'id': '60d0fe4f5311236168a10a02', 'title': 'mr', 'firstName': 'Cristobal', 'lastName': 'Soler', 'picture': 'https://randomuser.me/api/portraits/med/men/31.jpg', 'gender': 'male', 'email': 'cristobal.soler@example.com', 'dateOfBirth': '1955-09-26T20:47:34.962Z', 'phone': '961-521-661', 'location': {'street': '7308, Avenida de La Albufera', 'city': 'Guadalajara', 'state': 'Castilla la Mancha', 'country': 'Spain', 'timezone': '+5:30'}, 'registerDate': '2021-06-21T21:02:16.973Z', 'updatedDate': '2021-06-21T21:02:16.973Z'}\n",
      "{'id': '60d0fe4f5311236168a10a03', 'title': 'mr', 'firstName': 'Andri', 'lastName': 'Leclerc', 'picture': 'https://randomuser.me/api/portraits/med/men/57.jpg', 'gender': 'male', 'email': 'andri.leclerc@example.com', 'dateOfBirth': '1946-05-09T02:52:44.348Z', 'phone': '077 142 26 73', 'location': {'street': '9730, Rue de la Mairie', 'city': 'Montherod', 'state': 'Ticino', 'country': 'Switzerland', 'timezone': '+5:45'}, 'registerDate': '2021-06-21T21:02:17.127Z', 'updatedDate': '2021-06-21T21:02:17.127Z'}\n",
      "{'id': '60d0fe4f5311236168a10a04', 'title': 'mr', 'firstName': 'Konsta', 'lastName': 'Manninen', 'picture': 'https://randomuser.me/api/portraits/med/men/24.jpg', 'gender': 'male', 'email': 'konsta.manninen@example.com', 'dateOfBirth': '1978-01-30T04:14:10.139Z', 'phone': '03-163-724', 'location': {'street': '9823, HatanpÃ¤Ã¤n Valtatie', 'city': 'Lahti', 'state': 'Central Finland', 'country': 'Finland', 'timezone': '+3:00'}, 'registerDate': '2021-06-21T21:02:17.280Z', 'updatedDate': '2021-06-21T21:02:17.280Z'}\n",
      "{'id': '60d0fe4f5311236168a10a05', 'title': 'ms', 'firstName': 'Ane', 'lastName': 'Frafjord', 'picture': 'https://randomuser.me/api/portraits/med/women/54.jpg', 'gender': 'female', 'email': 'ane.frafjord@example.com', 'dateOfBirth': '1948-04-21T03:34:24.570Z', 'phone': '64217714', 'location': {'street': '1734, Gaupefaret', 'city': 'FÃ¥berg', 'state': 'Akershus', 'country': 'Norway', 'timezone': '+4:00'}, 'registerDate': '2021-06-21T21:02:17.433Z', 'updatedDate': '2021-06-21T21:02:17.433Z'}\n",
      "{'id': '60d0fe4f5311236168a10a06', 'title': 'mrs', 'firstName': 'OlaÃ\\xad', 'lastName': 'Gomes', 'picture': 'https://randomuser.me/api/portraits/med/women/85.jpg', 'gender': 'female', 'email': 'olai.gomes@example.com', 'dateOfBirth': '1952-04-04T15:27:37.165Z', 'phone': '(54) 9138-1099', 'location': {'street': '5762, Rua Rio de Janeiro ', 'city': 'Novo Hamburgo', 'state': 'Roraima', 'country': 'Brazil', 'timezone': '+8:00'}, 'registerDate': '2021-06-21T21:02:17.603Z', 'updatedDate': '2021-06-21T21:02:17.603Z'}\n",
      "{'id': '60d0fe4f5311236168a10a07', 'title': 'mr', 'firstName': 'Sigmund', 'lastName': 'Myran', 'picture': 'https://randomuser.me/api/portraits/med/men/61.jpg', 'gender': 'male', 'email': 'sigmund.myran@example.com', 'dateOfBirth': '1958-08-02T12:09:13.783Z', 'phone': '62171269', 'location': {'street': '297, Roseveien', 'city': 'LysÃ¸ysund', 'state': 'Description', 'country': 'Norway', 'timezone': '+11:00'}, 'registerDate': '2021-06-21T21:02:17.754Z', 'updatedDate': '2021-06-21T21:02:17.754Z'}\n",
      "{'id': '60d0fe4f5311236168a10a08', 'title': 'ms', 'firstName': 'Lilja', 'lastName': 'Lampinen', 'picture': 'https://randomuser.me/api/portraits/med/women/50.jpg', 'gender': 'female', 'email': 'lilja.lampinen@example.com', 'dateOfBirth': '1960-02-03T04:00:09.804Z', 'phone': '06-259-069', 'location': {'street': '6147, Visiokatu', 'city': 'MÃ¤ntyharju', 'state': 'PÃ¤ijÃ¤t-HÃ¤me', 'country': 'Finland', 'timezone': '-11:00'}, 'registerDate': '2021-06-21T21:02:17.908Z', 'updatedDate': '2021-06-21T21:02:17.908Z'}\n",
      "{'id': '60d0fe4f5311236168a10a09', 'title': 'miss', 'firstName': 'Clea', 'lastName': 'Dubois', 'picture': 'https://randomuser.me/api/portraits/med/women/11.jpg', 'gender': 'female', 'email': 'clea.dubois@example.com', 'dateOfBirth': '1976-12-19T09:54:30.283Z', 'phone': '05-07-68-29-63', 'location': {'street': '5348, Rue Barrier', 'city': 'Perpignan', 'state': 'Haut-Rhin', 'country': 'France', 'timezone': '-11:00'}, 'registerDate': '2021-06-21T21:02:18.060Z', 'updatedDate': '2021-06-21T21:02:18.060Z'}\n",
      "{'id': '60d0fe4f5311236168a10a0a', 'title': 'mr', 'firstName': 'Sandro', 'lastName': 'Guillot', 'picture': 'https://randomuser.me/api/portraits/med/men/8.jpg', 'gender': 'male', 'email': 'sandro.guillot@example.com', 'dateOfBirth': '1986-12-26T18:10:43.423Z', 'phone': '01-81-76-32-65', 'location': {'street': '1800, Rue du Stade', 'city': 'Saint-Denis', 'state': 'SaÃ´ne-et-Loire', 'country': 'France', 'timezone': '-7:00'}, 'registerDate': '2021-06-21T21:02:18.226Z', 'updatedDate': '2021-06-21T21:02:18.226Z'}\n",
      "{'id': '60d0fe4f5311236168a10a0b', 'title': 'miss', 'firstName': 'Margarita', 'lastName': 'Vicente', 'picture': 'https://randomuser.me/api/portraits/med/women/5.jpg', 'gender': 'female', 'email': 'margarita.vicente@example.com', 'dateOfBirth': '1950-07-20T11:47:20.779Z', 'phone': '902-482-251', 'location': {'street': '4944, Calle de Atocha', 'city': 'Las Palmas de Gran Canaria', 'state': 'AndalucÃ\\xada', 'country': 'Spain', 'timezone': '-1:00'}, 'registerDate': '2021-06-21T21:02:18.378Z', 'updatedDate': '2021-06-21T21:02:18.378Z'}\n",
      "{'id': '60d0fe4f5311236168a10a0c', 'title': 'ms', 'firstName': 'Annabel', 'lastName': 'Somby', 'picture': 'https://randomuser.me/api/portraits/med/women/35.jpg', 'gender': 'female', 'email': 'annabel.somby@example.com', 'dateOfBirth': '1987-05-09T23:35:30.223Z', 'phone': '57345952', 'location': {'street': '6585, Hofftunet', 'city': 'Ã…rnes', 'state': 'Finnmark - FinnmÃ¡rku', 'country': 'Norway', 'timezone': '-12:00'}, 'registerDate': '2021-06-21T21:02:18.531Z', 'updatedDate': '2021-06-21T21:02:18.531Z'}\n",
      "{'id': '60d0fe4f5311236168a10a0d', 'title': 'mr', 'firstName': 'Lyam', 'lastName': 'Morin', 'picture': 'https://randomuser.me/api/portraits/med/men/95.jpg', 'gender': 'male', 'email': 'lyam.morin@example.com', 'dateOfBirth': '1951-08-29T16:00:33.182Z', 'phone': '04-77-88-76-90', 'location': {'street': '6902, Rue des Abbesses', 'city': 'Dijon', 'state': 'Savoie', 'country': 'France', 'timezone': '+7:00'}, 'registerDate': '2021-06-21T21:02:18.685Z', 'updatedDate': '2021-06-21T21:02:18.685Z'}\n",
      "{'id': '60d0fe4f5311236168a10a0e', 'title': 'mr', 'firstName': 'Mads', 'lastName': 'Andersen', 'picture': 'https://randomuser.me/api/portraits/med/men/74.jpg', 'gender': 'male', 'email': 'mads.andersen@example.com', 'dateOfBirth': '1963-04-12T15:41:39.051Z', 'phone': '76120280', 'location': {'street': '6839, Lavendelvej', 'city': 'AgerbÃ¦k', 'state': 'SjÃ¦lland', 'country': 'Denmark', 'timezone': '0:00'}, 'registerDate': '2021-06-21T21:02:18.840Z', 'updatedDate': '2021-06-21T21:02:18.840Z'}\n"
     ]
    },
    {
     "name": "stdout",
     "output_type": "stream",
     "text": [
      "{'id': '60d0fe4f5311236168a10a0f', 'title': 'mr', 'firstName': 'Kaya', 'lastName': 'Basoglu', 'picture': 'https://randomuser.me/api/portraits/med/men/59.jpg', 'gender': 'male', 'email': 'kaya.basoglu@example.com', 'dateOfBirth': '1952-07-19T21:48:06.254Z', 'phone': '(686)-297-4736', 'location': {'street': '2574, Necatibey Cd', 'city': 'Amasya', 'state': 'BalÄ±kesir', 'country': 'Turkey', 'timezone': '+8:00'}, 'registerDate': '2021-06-21T21:02:18.992Z', 'updatedDate': '2021-06-21T21:02:18.992Z'}\n",
      "{'id': '60d0fe4f5311236168a10a10', 'title': 'mr', 'firstName': 'Nenad', 'lastName': 'Leroy', 'picture': 'https://randomuser.me/api/portraits/med/men/62.jpg', 'gender': 'male', 'email': 'nenad.leroy@example.com', 'dateOfBirth': '1949-02-02T00:32:14.911Z', 'phone': '078 789 60 53', 'location': {'street': '6975, Rue AndrÃ©-Gide', 'city': 'Arni (Ag)', 'state': 'Basel-Landschaft', 'country': 'Switzerland', 'timezone': '-3:00'}, 'registerDate': '2021-06-21T21:02:19.188Z', 'updatedDate': '2021-06-21T21:02:19.188Z'}\n",
      "{'id': '60d0fe4f5311236168a10a11', 'title': 'miss', 'firstName': 'Angeles', 'lastName': 'Gimenez', 'picture': 'https://randomuser.me/api/portraits/med/women/56.jpg', 'gender': 'female', 'email': 'angeles.gimenez@example.com', 'dateOfBirth': '1955-07-21T08:53:42.959Z', 'phone': '905-951-796', 'location': {'street': '6609, Avenida de AndalucÃ\\xada', 'city': 'La CoruÃ±a', 'state': 'RegiÃ³n de Murcia', 'country': 'Spain', 'timezone': '+1:00'}, 'registerDate': '2021-06-21T21:02:19.361Z', 'updatedDate': '2021-06-21T21:02:19.361Z'}\n",
      "{'id': '60d0fe4f5311236168a10a12', 'title': 'mr', 'firstName': 'Kenneth', 'lastName': 'Carter', 'picture': 'https://randomuser.me/api/portraits/med/men/40.jpg', 'gender': 'male', 'email': 'kenneth.carter@example.com', 'dateOfBirth': '1978-08-22T03:16:13.371Z', 'phone': '09-5083-2974', 'location': {'street': '8485, Railroad St', 'city': 'Mildura', 'state': 'New South Wales', 'country': 'Australia', 'timezone': '-7:00'}, 'registerDate': '2021-06-21T21:02:19.538Z', 'updatedDate': '2021-06-21T21:02:19.538Z'}\n",
      "{'id': '60d0fe4f5311236168a10a13', 'title': 'mr', 'firstName': 'Jan', 'lastName': 'Siebert', 'picture': 'https://randomuser.me/api/portraits/med/men/60.jpg', 'gender': 'male', 'email': 'jan.siebert@example.com', 'dateOfBirth': '1951-12-26T05:03:29.793Z', 'phone': '0687-8196730', 'location': {'street': '9650, Lerchenweg', 'city': 'Stadtsteinach', 'state': 'ThÃ¼ringen', 'country': 'Germany', 'timezone': '+8:00'}, 'registerDate': '2021-06-21T21:02:19.690Z', 'updatedDate': '2021-06-21T21:02:19.690Z'}\n",
      "{'id': '60d0fe4f5311236168a10a14', 'title': 'mr', 'firstName': 'Cameron', 'lastName': 'Mendoza', 'picture': 'https://randomuser.me/api/portraits/med/men/95.jpg', 'gender': 'male', 'email': 'cameron.mendoza@example.com', 'dateOfBirth': '1973-05-27T00:15:32.360Z', 'phone': '019467 44267', 'location': {'street': '9677, Queen Street', 'city': 'Carlisle', 'state': 'Leicestershire', 'country': 'United Kingdom', 'timezone': '0:00'}, 'registerDate': '2021-06-21T21:02:19.879Z', 'updatedDate': '2021-06-21T21:02:19.879Z'}\n",
      "{'id': '60d0fe4f5311236168a10a15', 'title': 'mr', 'firstName': 'Benjamin', 'lastName': 'Wilson', 'picture': 'https://randomuser.me/api/portraits/med/men/14.jpg', 'gender': 'male', 'email': 'benjamin.wilson@example.com', 'dateOfBirth': '1953-08-22T17:50:33.523Z', 'phone': '041-006-6231', 'location': {'street': '724, Concession Road 23', 'city': 'Sherbrooke', 'state': 'British Columbia', 'country': 'Canada', 'timezone': '+4:00'}, 'registerDate': '2021-06-21T21:02:20.033Z', 'updatedDate': '2021-06-21T21:02:20.033Z'}\n",
      "{'id': '60d0fe4f5311236168a10a16', 'title': 'mr', 'firstName': 'Sergio', 'lastName': 'Ferrer', 'picture': 'https://randomuser.me/api/portraits/med/men/29.jpg', 'gender': 'male', 'email': 'sergio.ferrer@example.com', 'dateOfBirth': '1985-09-17T22:59:35.235Z', 'phone': '976-849-240', 'location': {'street': '5497, Calle de AlcalÃ¡', 'city': 'Elche', 'state': 'CataluÃ±a', 'country': 'Spain', 'timezone': '-6:00'}, 'registerDate': '2021-06-21T21:02:20.208Z', 'updatedDate': '2021-06-21T21:02:20.208Z'}\n",
      "{'id': '60d0fe4f5311236168a10a17', 'title': 'mrs', 'firstName': 'Emma', 'lastName': 'Jokela', 'picture': 'https://randomuser.me/api/portraits/med/women/46.jpg', 'gender': 'female', 'email': 'emma.jokela@example.com', 'dateOfBirth': '1960-12-02T14:04:02.756Z', 'phone': '09-865-295', 'location': {'street': '3239, Pispalan Valtatie', 'city': 'PetÃ¤jÃ¤vesi', 'state': 'Central Finland', 'country': 'Finland', 'timezone': '-4:00'}, 'registerDate': '2021-06-21T21:02:20.365Z', 'updatedDate': '2021-06-21T21:02:20.365Z'}\n",
      "{'id': '60d0fe4f5311236168a10a18', 'title': 'mr', 'firstName': 'Jeremy', 'lastName': 'Morin', 'picture': 'https://randomuser.me/api/portraits/med/men/60.jpg', 'gender': 'male', 'email': 'jeremy.morin@example.com', 'dateOfBirth': '1951-02-21T09:25:59.841Z', 'phone': '081-702-1111', 'location': {'street': '1693, Argyle St', 'city': 'Flatrock', 'state': 'Alberta', 'country': 'Canada', 'timezone': '-4:00'}, 'registerDate': '2021-06-21T21:02:20.521Z', 'updatedDate': '2021-06-21T21:02:20.521Z'}\n"
     ]
    },
    {
     "ename": "JSONDecodeError",
     "evalue": "[Errno Expecting value] Internal Error: 0",
     "output_type": "error",
     "traceback": [
      "\u001b[1;31m---------------------------------------------------------------------------\u001b[0m",
      "\u001b[1;31mJSONDecodeError\u001b[0m                           Traceback (most recent call last)",
      "File \u001b[1;32m~\\anaconda3\\envs\\airflow-dbt\\lib\\site-packages\\requests\\models.py:910\u001b[0m, in \u001b[0;36mResponse.json\u001b[1;34m(self, **kwargs)\u001b[0m\n\u001b[0;32m    909\u001b[0m \u001b[38;5;28;01mtry\u001b[39;00m:\n\u001b[1;32m--> 910\u001b[0m     \u001b[38;5;28;01mreturn\u001b[39;00m complexjson\u001b[38;5;241m.\u001b[39mloads(\u001b[38;5;28mself\u001b[39m\u001b[38;5;241m.\u001b[39mtext, \u001b[38;5;241m*\u001b[39m\u001b[38;5;241m*\u001b[39mkwargs)\n\u001b[0;32m    911\u001b[0m \u001b[38;5;28;01mexcept\u001b[39;00m JSONDecodeError \u001b[38;5;28;01mas\u001b[39;00m e:\n\u001b[0;32m    912\u001b[0m     \u001b[38;5;66;03m# Catch JSON-related errors and raise as requests.JSONDecodeError\u001b[39;00m\n\u001b[0;32m    913\u001b[0m     \u001b[38;5;66;03m# This aliases json.JSONDecodeError and simplejson.JSONDecodeError\u001b[39;00m\n",
      "File \u001b[1;32m~\\anaconda3\\envs\\airflow-dbt\\lib\\json\\__init__.py:346\u001b[0m, in \u001b[0;36mloads\u001b[1;34m(s, cls, object_hook, parse_float, parse_int, parse_constant, object_pairs_hook, **kw)\u001b[0m\n\u001b[0;32m    343\u001b[0m \u001b[38;5;28;01mif\u001b[39;00m (\u001b[38;5;28mcls\u001b[39m \u001b[38;5;129;01mis\u001b[39;00m \u001b[38;5;28;01mNone\u001b[39;00m \u001b[38;5;129;01mand\u001b[39;00m object_hook \u001b[38;5;129;01mis\u001b[39;00m \u001b[38;5;28;01mNone\u001b[39;00m \u001b[38;5;129;01mand\u001b[39;00m\n\u001b[0;32m    344\u001b[0m         parse_int \u001b[38;5;129;01mis\u001b[39;00m \u001b[38;5;28;01mNone\u001b[39;00m \u001b[38;5;129;01mand\u001b[39;00m parse_float \u001b[38;5;129;01mis\u001b[39;00m \u001b[38;5;28;01mNone\u001b[39;00m \u001b[38;5;129;01mand\u001b[39;00m\n\u001b[0;32m    345\u001b[0m         parse_constant \u001b[38;5;129;01mis\u001b[39;00m \u001b[38;5;28;01mNone\u001b[39;00m \u001b[38;5;129;01mand\u001b[39;00m object_pairs_hook \u001b[38;5;129;01mis\u001b[39;00m \u001b[38;5;28;01mNone\u001b[39;00m \u001b[38;5;129;01mand\u001b[39;00m \u001b[38;5;129;01mnot\u001b[39;00m kw):\n\u001b[1;32m--> 346\u001b[0m     \u001b[38;5;28;01mreturn\u001b[39;00m \u001b[43m_default_decoder\u001b[49m\u001b[38;5;241;43m.\u001b[39;49m\u001b[43mdecode\u001b[49m\u001b[43m(\u001b[49m\u001b[43ms\u001b[49m\u001b[43m)\u001b[49m\n\u001b[0;32m    347\u001b[0m \u001b[38;5;28;01mif\u001b[39;00m \u001b[38;5;28mcls\u001b[39m \u001b[38;5;129;01mis\u001b[39;00m \u001b[38;5;28;01mNone\u001b[39;00m:\n",
      "File \u001b[1;32m~\\anaconda3\\envs\\airflow-dbt\\lib\\json\\decoder.py:337\u001b[0m, in \u001b[0;36mJSONDecoder.decode\u001b[1;34m(self, s, _w)\u001b[0m\n\u001b[0;32m    333\u001b[0m \u001b[38;5;124;03m\"\"\"Return the Python representation of ``s`` (a ``str`` instance\u001b[39;00m\n\u001b[0;32m    334\u001b[0m \u001b[38;5;124;03mcontaining a JSON document).\u001b[39;00m\n\u001b[0;32m    335\u001b[0m \n\u001b[0;32m    336\u001b[0m \u001b[38;5;124;03m\"\"\"\u001b[39;00m\n\u001b[1;32m--> 337\u001b[0m obj, end \u001b[38;5;241m=\u001b[39m \u001b[38;5;28;43mself\u001b[39;49m\u001b[38;5;241;43m.\u001b[39;49m\u001b[43mraw_decode\u001b[49m\u001b[43m(\u001b[49m\u001b[43ms\u001b[49m\u001b[43m,\u001b[49m\u001b[43m \u001b[49m\u001b[43midx\u001b[49m\u001b[38;5;241;43m=\u001b[39;49m\u001b[43m_w\u001b[49m\u001b[43m(\u001b[49m\u001b[43ms\u001b[49m\u001b[43m,\u001b[49m\u001b[43m \u001b[49m\u001b[38;5;241;43m0\u001b[39;49m\u001b[43m)\u001b[49m\u001b[38;5;241;43m.\u001b[39;49m\u001b[43mend\u001b[49m\u001b[43m(\u001b[49m\u001b[43m)\u001b[49m\u001b[43m)\u001b[49m\n\u001b[0;32m    338\u001b[0m end \u001b[38;5;241m=\u001b[39m _w(s, end)\u001b[38;5;241m.\u001b[39mend()\n",
      "File \u001b[1;32m~\\anaconda3\\envs\\airflow-dbt\\lib\\json\\decoder.py:355\u001b[0m, in \u001b[0;36mJSONDecoder.raw_decode\u001b[1;34m(self, s, idx)\u001b[0m\n\u001b[0;32m    354\u001b[0m \u001b[38;5;28;01mexcept\u001b[39;00m \u001b[38;5;167;01mStopIteration\u001b[39;00m \u001b[38;5;28;01mas\u001b[39;00m err:\n\u001b[1;32m--> 355\u001b[0m     \u001b[38;5;28;01mraise\u001b[39;00m JSONDecodeError(\u001b[38;5;124m\"\u001b[39m\u001b[38;5;124mExpecting value\u001b[39m\u001b[38;5;124m\"\u001b[39m, s, err\u001b[38;5;241m.\u001b[39mvalue) \u001b[38;5;28;01mfrom\u001b[39;00m \u001b[38;5;28mNone\u001b[39m\n\u001b[0;32m    356\u001b[0m \u001b[38;5;28;01mreturn\u001b[39;00m obj, end\n",
      "\u001b[1;31mJSONDecodeError\u001b[0m: Expecting value: line 1 column 1 (char 0)",
      "\nDuring handling of the above exception, another exception occurred:\n",
      "\u001b[1;31mJSONDecodeError\u001b[0m                           Traceback (most recent call last)",
      "Input \u001b[1;32mIn [7]\u001b[0m, in \u001b[0;36m<cell line: 2>\u001b[1;34m()\u001b[0m\n\u001b[0;32m      1\u001b[0m \u001b[38;5;28mprint\u001b[39m(\u001b[38;5;124m\"\u001b[39m\u001b[38;5;124mFetching Data....\u001b[39m\u001b[38;5;124m\"\u001b[39m)\n\u001b[1;32m----> 2\u001b[0m user, locations \u001b[38;5;241m=\u001b[39m \u001b[43mretreive_full_records\u001b[49m\u001b[43m(\u001b[49m\u001b[43mobject_\u001b[49m\u001b[43m \u001b[49m\u001b[38;5;241;43m=\u001b[39;49m\u001b[43m \u001b[49m\u001b[38;5;124;43m\"\u001b[39;49m\u001b[38;5;124;43muser\u001b[39;49m\u001b[38;5;124;43m\"\u001b[39;49m\u001b[43m,\u001b[49m\u001b[43m \u001b[49m\u001b[43mapi_preffix\u001b[49m\u001b[43m \u001b[49m\u001b[38;5;241;43m=\u001b[39;49m\u001b[43m \u001b[49m\u001b[43mapi_preffix\u001b[49m\u001b[43m,\u001b[49m\u001b[43m \u001b[49m\u001b[43mapi_id\u001b[49m\u001b[43m \u001b[49m\u001b[38;5;241;43m=\u001b[39;49m\u001b[43m \u001b[49m\u001b[43mapi_id\u001b[49m\u001b[43m,\u001b[49m\u001b[43m \u001b[49m\u001b[43mpage_upper_limit\u001b[49m\u001b[43m \u001b[49m\u001b[38;5;241;43m=\u001b[39;49m\u001b[43m \u001b[49m\u001b[38;5;241;43m999\u001b[39;49m\u001b[43m)\u001b[49m\n\u001b[0;32m      3\u001b[0m posts, pages \u001b[38;5;241m=\u001b[39m retreive_full_records(object_ \u001b[38;5;241m=\u001b[39m \u001b[38;5;124m\"\u001b[39m\u001b[38;5;124mpost\u001b[39m\u001b[38;5;124m\"\u001b[39m, api_preffix \u001b[38;5;241m=\u001b[39m api_preffix, api_id \u001b[38;5;241m=\u001b[39m api_id, page_upper_limit \u001b[38;5;241m=\u001b[39m \u001b[38;5;241m999\u001b[39m)\n\u001b[0;32m      4\u001b[0m comments \u001b[38;5;241m=\u001b[39m retreive_full_records(object_ \u001b[38;5;241m=\u001b[39m \u001b[38;5;124m\"\u001b[39m\u001b[38;5;124mcomment\u001b[39m\u001b[38;5;124m\"\u001b[39m, api_preffix \u001b[38;5;241m=\u001b[39m api_preffix, api_id \u001b[38;5;241m=\u001b[39m api_id, page_upper_limit \u001b[38;5;241m=\u001b[39m \u001b[38;5;241m999\u001b[39m)\n",
      "Input \u001b[1;32mIn [6]\u001b[0m, in \u001b[0;36mretreive_full_records\u001b[1;34m(object_, api_preffix, api_id, page_upper_limit)\u001b[0m\n\u001b[0;32m    110\u001b[0m \u001b[38;5;28;01mif\u001b[39;00m check_empty_response(response_json):            \n\u001b[0;32m    111\u001b[0m     \u001b[38;5;66;03m#in case the object is user unnest the preview records, extract the location data\u001b[39;00m\n\u001b[0;32m    112\u001b[0m     \u001b[38;5;28;01mif\u001b[39;00m object_ \u001b[38;5;241m==\u001b[39m \u001b[38;5;124m\"\u001b[39m\u001b[38;5;124muser\u001b[39m\u001b[38;5;124m\"\u001b[39m:             \n\u001b[1;32m--> 113\u001b[0m         records \u001b[38;5;241m+\u001b[39m\u001b[38;5;241m=\u001b[39m \u001b[38;5;28;43mlist\u001b[39;49m\u001b[43m(\u001b[49m\u001b[38;5;28;43mmap\u001b[39;49m\u001b[43m(\u001b[49m\u001b[38;5;28;43;01mlambda\u001b[39;49;00m\u001b[43m \u001b[49m\u001b[43mx\u001b[49m\u001b[43m:\u001b[49m\u001b[43m  \u001b[49m\u001b[43mget_detail_user_record\u001b[49m\u001b[43m \u001b[49m\u001b[43m(\u001b[49m\u001b[43mx\u001b[49m\u001b[43m[\u001b[49m\u001b[38;5;124;43m'\u001b[39;49m\u001b[38;5;124;43mid\u001b[39;49m\u001b[38;5;124;43m'\u001b[39;49m\u001b[43m]\u001b[49m\u001b[43m)\u001b[49m\u001b[43m,\u001b[49m\u001b[43m \u001b[49m\u001b[43mresponse_json\u001b[49m\u001b[43m[\u001b[49m\u001b[38;5;124;43m\"\u001b[39;49m\u001b[38;5;124;43mdata\u001b[39;49m\u001b[38;5;124;43m\"\u001b[39;49m\u001b[43m]\u001b[49m\u001b[43m)\u001b[49m\u001b[43m)\u001b[49m                \n\u001b[0;32m    114\u001b[0m         \u001b[38;5;66;03m#records += [get_detail_user_record (x['id']) for x in response_json[\"data\"]]\u001b[39;00m\n\u001b[0;32m    116\u001b[0m     \u001b[38;5;28;01melif\u001b[39;00m object_ \u001b[38;5;241m==\u001b[39m \u001b[38;5;124m\"\u001b[39m\u001b[38;5;124mpost\u001b[39m\u001b[38;5;124m\"\u001b[39m:\n",
      "Input \u001b[1;32mIn [6]\u001b[0m, in \u001b[0;36mretreive_full_records.<locals>.<lambda>\u001b[1;34m(x)\u001b[0m\n\u001b[0;32m    110\u001b[0m \u001b[38;5;28;01mif\u001b[39;00m check_empty_response(response_json):            \n\u001b[0;32m    111\u001b[0m     \u001b[38;5;66;03m#in case the object is user unnest the preview records, extract the location data\u001b[39;00m\n\u001b[0;32m    112\u001b[0m     \u001b[38;5;28;01mif\u001b[39;00m object_ \u001b[38;5;241m==\u001b[39m \u001b[38;5;124m\"\u001b[39m\u001b[38;5;124muser\u001b[39m\u001b[38;5;124m\"\u001b[39m:             \n\u001b[1;32m--> 113\u001b[0m         records \u001b[38;5;241m+\u001b[39m\u001b[38;5;241m=\u001b[39m \u001b[38;5;28mlist\u001b[39m(\u001b[38;5;28mmap\u001b[39m(\u001b[38;5;28;01mlambda\u001b[39;00m x:  \u001b[43mget_detail_user_record\u001b[49m\u001b[43m \u001b[49m\u001b[43m(\u001b[49m\u001b[43mx\u001b[49m\u001b[43m[\u001b[49m\u001b[38;5;124;43m'\u001b[39;49m\u001b[38;5;124;43mid\u001b[39;49m\u001b[38;5;124;43m'\u001b[39;49m\u001b[43m]\u001b[49m\u001b[43m)\u001b[49m, response_json[\u001b[38;5;124m\"\u001b[39m\u001b[38;5;124mdata\u001b[39m\u001b[38;5;124m\"\u001b[39m]))                \n\u001b[0;32m    114\u001b[0m         \u001b[38;5;66;03m#records += [get_detail_user_record (x['id']) for x in response_json[\"data\"]]\u001b[39;00m\n\u001b[0;32m    116\u001b[0m     \u001b[38;5;28;01melif\u001b[39;00m object_ \u001b[38;5;241m==\u001b[39m \u001b[38;5;124m\"\u001b[39m\u001b[38;5;124mpost\u001b[39m\u001b[38;5;124m\"\u001b[39m:\n",
      "Input \u001b[1;32mIn [6]\u001b[0m, in \u001b[0;36mretreive_full_records.<locals>.get_detail_user_record\u001b[1;34m(id_)\u001b[0m\n\u001b[0;32m     35\u001b[0m \u001b[38;5;28;01mnonlocal\u001b[39;00m api_preffix, object_, key_location\n\u001b[0;32m     36\u001b[0m \u001b[38;5;28;01mif\u001b[39;00m check_duplicated_ids(id_):        \n\u001b[1;32m---> 37\u001b[0m     record \u001b[38;5;241m=\u001b[39m \u001b[43mrequests\u001b[49m\u001b[38;5;241;43m.\u001b[39;49m\u001b[43mget\u001b[49m\u001b[43m(\u001b[49m\u001b[43mapi_preffix\u001b[49m\u001b[38;5;241;43m+\u001b[39;49m\u001b[43mobject_\u001b[49m\u001b[38;5;241;43m+\u001b[39;49m\u001b[38;5;124;43m\"\u001b[39;49m\u001b[38;5;124;43m/\u001b[39;49m\u001b[38;5;124;43m\"\u001b[39;49m\u001b[38;5;241;43m+\u001b[39;49m\u001b[43mid_\u001b[49m\u001b[43m,\u001b[49m\u001b[43m  \u001b[49m\u001b[43mheaders\u001b[49m\u001b[38;5;241;43m=\u001b[39;49m\u001b[43m{\u001b[49m\u001b[38;5;124;43m\"\u001b[39;49m\u001b[38;5;124;43mapp-id\u001b[39;49m\u001b[38;5;124;43m\"\u001b[39;49m\u001b[43m:\u001b[49m\u001b[43mapi_id\u001b[49m\u001b[43m,\u001b[49m\u001b[43m \u001b[49m\u001b[38;5;124;43m\"\u001b[39;49m\u001b[38;5;124;43mContent-Type\u001b[39;49m\u001b[38;5;124;43m\"\u001b[39;49m\u001b[43m:\u001b[49m\u001b[38;5;124;43m\"\u001b[39;49m\u001b[38;5;124;43mtext\u001b[39;49m\u001b[38;5;124;43m\"\u001b[39;49m\u001b[43m}\u001b[49m\u001b[43m)\u001b[49m\u001b[38;5;241;43m.\u001b[39;49m\u001b[43mjson\u001b[49m\u001b[43m(\u001b[49m\u001b[43m)\u001b[49m        \n\u001b[0;32m     38\u001b[0m     \u001b[38;5;28mprint\u001b[39m(record)\n\u001b[0;32m     39\u001b[0m     \u001b[38;5;28;01mif\u001b[39;00m \u001b[38;5;124m'\u001b[39m\u001b[38;5;124mlocation\u001b[39m\u001b[38;5;124m'\u001b[39m \u001b[38;5;129;01min\u001b[39;00m record\u001b[38;5;241m.\u001b[39mkeys():\n",
      "File \u001b[1;32m~\\anaconda3\\envs\\airflow-dbt\\lib\\site-packages\\requests\\models.py:917\u001b[0m, in \u001b[0;36mResponse.json\u001b[1;34m(self, **kwargs)\u001b[0m\n\u001b[0;32m    915\u001b[0m     \u001b[38;5;28;01mraise\u001b[39;00m RequestsJSONDecodeError(e\u001b[38;5;241m.\u001b[39mmessage)\n\u001b[0;32m    916\u001b[0m \u001b[38;5;28;01melse\u001b[39;00m:\n\u001b[1;32m--> 917\u001b[0m     \u001b[38;5;28;01mraise\u001b[39;00m RequestsJSONDecodeError(e\u001b[38;5;241m.\u001b[39mmsg, e\u001b[38;5;241m.\u001b[39mdoc, e\u001b[38;5;241m.\u001b[39mpos)\n",
      "\u001b[1;31mJSONDecodeError\u001b[0m: [Errno Expecting value] Internal Error: 0"
     ]
    }
   ],
   "source": [
    "print(\"Fetching Data....\")\n",
    "user, locations = retreive_full_records(object_ = \"user\", api_preffix = api_preffix, api_id = api_id, page_upper_limit = 999)\n",
    "posts, pages = retreive_full_records(object_ = \"post\", api_preffix = api_preffix, api_id = api_id, page_upper_limit = 999)\n",
    "comments = retreive_full_records(object_ = \"comment\", api_preffix = api_preffix, api_id = api_id, page_upper_limit = 999)"
   ]
  },
  {
   "cell_type": "code",
   "execution_count": null,
   "metadata": {},
   "outputs": [],
   "source": [
    "print(\"Data Review\")\n",
    "display(users)"
   ]
  },
  {
   "cell_type": "code",
   "execution_count": null,
   "metadata": {},
   "outputs": [],
   "source": [
    "print(\"Locations Frame\")\n",
    "display(locations)"
   ]
  },
  {
   "cell_type": "code",
   "execution_count": null,
   "metadata": {},
   "outputs": [],
   "source": [
    "print(\"Posts Frame ....\")\n",
    "display(posts)"
   ]
  },
  {
   "cell_type": "code",
   "execution_count": null,
   "metadata": {},
   "outputs": [],
   "source": [
    "print(\"Comments Frame ....\")\n",
    "display(comments)"
   ]
  },
  {
   "cell_type": "code",
   "execution_count": null,
   "metadata": {},
   "outputs": [],
   "source": [
    "import sys"
   ]
  },
  {
   "cell_type": "markdown",
   "metadata": {},
   "source": [
    "### Connect to the database"
   ]
  },
  {
   "cell_type": "code",
   "execution_count": 12,
   "metadata": {},
   "outputs": [
    {
     "name": "stdout",
     "output_type": "stream",
     "text": [
      "DataBase (Postgres) Connection ..\n"
     ]
    }
   ],
   "source": [
    "print(\"DataBase (Postgres) Connection ..\")"
   ]
  },
  {
   "cell_type": "code",
   "execution_count": 13,
   "metadata": {},
   "outputs": [
    {
     "name": "stderr",
     "output_type": "stream",
     "text": [
      "2022-04-04 16:50:32,327| ERROR   | Could not establish connection from local ('127.0.0.1', 51100) to remote ('172.18.0.2', 5432) side of the tunnel: open new channel ssh error: Timeout opening channel.\n"
     ]
    },
    {
     "ename": "OperationalError",
     "evalue": "connection to server at \"127.0.0.1\", port 51100 failed: server closed the connection unexpectedly\n\tThis probably means the server terminated abnormally\n\tbefore or while processing the request.\n",
     "output_type": "error",
     "traceback": [
      "\u001b[1;31m---------------------------------------------------------------------------\u001b[0m",
      "\u001b[1;31mOperationalError\u001b[0m                          Traceback (most recent call last)",
      "Input \u001b[1;32mIn [13]\u001b[0m, in \u001b[0;36m<cell line: 11>\u001b[1;34m()\u001b[0m\n\u001b[0;32m      7\u001b[0m ssh_tunnel\u001b[38;5;241m.\u001b[39mstart()\n\u001b[0;32m      9\u001b[0m ssh_tunnel\u001b[38;5;241m.\u001b[39mlocal_bind_port\n\u001b[1;32m---> 11\u001b[0m connection \u001b[38;5;241m=\u001b[39m \u001b[43mpsycopg2\u001b[49m\u001b[38;5;241;43m.\u001b[39;49m\u001b[43mconnect\u001b[49m\u001b[43m(\u001b[49m\u001b[43mdbname\u001b[49m\u001b[38;5;241;43m=\u001b[39;49m\u001b[38;5;124;43m'\u001b[39;49m\u001b[38;5;124;43mdummyapidb\u001b[39;49m\u001b[38;5;124;43m'\u001b[39;49m\n\u001b[0;32m     12\u001b[0m \u001b[43m                              \u001b[49m\u001b[43m,\u001b[49m\u001b[43m \u001b[49m\u001b[43muser\u001b[49m\u001b[38;5;241;43m=\u001b[39;49m\u001b[38;5;124;43m\"\u001b[39;49m\u001b[38;5;124;43mpostgres\u001b[39;49m\u001b[38;5;124;43m\"\u001b[39;49m\n\u001b[0;32m     13\u001b[0m \u001b[43m                              \u001b[49m\u001b[43m,\u001b[49m\u001b[43m \u001b[49m\u001b[43mpassword\u001b[49m\u001b[38;5;241;43m=\u001b[39;49m\u001b[38;5;124;43m\"\u001b[39;49m\u001b[38;5;124;43mpostgres\u001b[39;49m\u001b[38;5;124;43m\"\u001b[39;49m\n\u001b[0;32m     14\u001b[0m \u001b[43m                              \u001b[49m\u001b[43m,\u001b[49m\u001b[43m \u001b[49m\u001b[43mhost\u001b[49m\u001b[38;5;241;43m=\u001b[39;49m\u001b[38;5;124;43m'\u001b[39;49m\u001b[38;5;124;43m127.0.0.1\u001b[39;49m\u001b[38;5;124;43m'\u001b[39;49m\n\u001b[0;32m     15\u001b[0m \u001b[43m                              \u001b[49m\u001b[43m,\u001b[49m\u001b[43m \u001b[49m\u001b[43mport\u001b[49m\u001b[38;5;241;43m=\u001b[39;49m\u001b[43mssh_tunnel\u001b[49m\u001b[38;5;241;43m.\u001b[39;49m\u001b[43mlocal_bind_port\u001b[49m\u001b[43m)\u001b[49m\u001b[38;5;66;03m#127.0.0.1\u001b[39;00m\n\u001b[0;32m     17\u001b[0m \u001b[38;5;66;03m#connection = psycopg2.connect(dbname='dummyapidb',\u001b[39;00m\n\u001b[0;32m     18\u001b[0m \u001b[38;5;66;03m#                              user = \"postgres\",\u001b[39;00m\n\u001b[0;32m     19\u001b[0m \u001b[38;5;66;03m#                              password = \"postgres\",\u001b[39;00m\n\u001b[0;32m     20\u001b[0m \u001b[38;5;66;03m#                              host = \"localhost\",\u001b[39;00m\n\u001b[0;32m     21\u001b[0m \u001b[38;5;66;03m#                              port = \"5432\")\u001b[39;00m\n\u001b[0;32m     23\u001b[0m cursor \u001b[38;5;241m=\u001b[39m connection\u001b[38;5;241m.\u001b[39mcursor()\n",
      "File \u001b[1;32m~\\anaconda3\\envs\\airflow-dbt\\lib\\site-packages\\psycopg2\\__init__.py:122\u001b[0m, in \u001b[0;36mconnect\u001b[1;34m(dsn, connection_factory, cursor_factory, **kwargs)\u001b[0m\n\u001b[0;32m    119\u001b[0m     kwasync[\u001b[38;5;124m'\u001b[39m\u001b[38;5;124masync_\u001b[39m\u001b[38;5;124m'\u001b[39m] \u001b[38;5;241m=\u001b[39m kwargs\u001b[38;5;241m.\u001b[39mpop(\u001b[38;5;124m'\u001b[39m\u001b[38;5;124masync_\u001b[39m\u001b[38;5;124m'\u001b[39m)\n\u001b[0;32m    121\u001b[0m dsn \u001b[38;5;241m=\u001b[39m _ext\u001b[38;5;241m.\u001b[39mmake_dsn(dsn, \u001b[38;5;241m*\u001b[39m\u001b[38;5;241m*\u001b[39mkwargs)\n\u001b[1;32m--> 122\u001b[0m conn \u001b[38;5;241m=\u001b[39m _connect(dsn, connection_factory\u001b[38;5;241m=\u001b[39mconnection_factory, \u001b[38;5;241m*\u001b[39m\u001b[38;5;241m*\u001b[39mkwasync)\n\u001b[0;32m    123\u001b[0m \u001b[38;5;28;01mif\u001b[39;00m cursor_factory \u001b[38;5;129;01mis\u001b[39;00m \u001b[38;5;129;01mnot\u001b[39;00m \u001b[38;5;28;01mNone\u001b[39;00m:\n\u001b[0;32m    124\u001b[0m     conn\u001b[38;5;241m.\u001b[39mcursor_factory \u001b[38;5;241m=\u001b[39m cursor_factory\n",
      "\u001b[1;31mOperationalError\u001b[0m: connection to server at \"127.0.0.1\", port 51100 failed: server closed the connection unexpectedly\n\tThis probably means the server terminated abnormally\n\tbefore or while processing the request.\n"
     ]
    }
   ],
   "source": [
    "ssh_tunnel= SSHTunnelForwarder(\n",
    "         ('snf-880201.vm.okeanos.grnet.gr', 22),\n",
    "         ssh_password=\"pantelis123\",\n",
    "         ssh_username=\"root\",\n",
    "         remote_bind_address=('172.20.0.2', 5432))\n",
    "\n",
    "ssh_tunnel.start()\n",
    "\n",
    "ssh_tunnel.local_bind_port\n",
    "\n",
    "connection = psycopg2.connect(dbname='dummyapidb'\n",
    "                              , user=\"postgres\"\n",
    "                              , password=\"postgres\"\n",
    "                              , host='127.0.0.1'\n",
    "                              , port=ssh_tunnel.local_bind_port)#127.0.0.1\n",
    "\n",
    "#connection = psycopg2.connect(dbname='dummyapidb',\n",
    "#                              user = \"postgres\",\n",
    "#                              password = \"postgres\",\n",
    "#                              host = \"localhost\",\n",
    "#                              port = \"5432\")\n",
    "\n",
    "cursor = connection.cursor()"
   ]
  },
  {
   "cell_type": "markdown",
   "metadata": {},
   "source": [
    "### Tables Initialization"
   ]
  },
  {
   "cell_type": "code",
   "execution_count": null,
   "metadata": {},
   "outputs": [],
   "source": [
    "print(\"Staging Tables Initialization ..\")"
   ]
  },
  {
   "cell_type": "code",
   "execution_count": null,
   "metadata": {},
   "outputs": [],
   "source": [
    "create_users_tabel = (\"\"\"\n",
    "DROP TABLE IF EXISTS UsersStage cascade;\n",
    "CREATE TABLE IF NOT EXISTS UsersStage (\n",
    "  id varchar(255) PRIMARY KEY,\n",
    "  title varchar(255),\n",
    "  firstName varchar(255),\n",
    "  lastName varchar(255),\n",
    "  picture varchar(255),\n",
    "  gender varchar(255),\n",
    "  email varchar(255),\n",
    "  dateOfBirth date DEFAULT NULL,\n",
    "  phone varchar(255),\n",
    "  location_id int,\n",
    "  registerDate date DEFAULT NULL,\n",
    "  updatedDate date DEFAULT NULL\n",
    ");\n",
    "\"\"\")\n",
    "\n",
    "create_locations_tabel = (\"\"\"\n",
    "DROP TABLE IF EXISTS LocationsStage cascade;\n",
    "CREATE TABLE IF NOT EXISTS LocationsStage (\n",
    "  id INT PRIMARY KEY,\n",
    "  street varchar(255),\n",
    "  city varchar(255),\n",
    "  state varchar(255),\n",
    "  country varchar(255),\n",
    "  timezone varchar(255)\n",
    ");\n",
    "\"\"\")\n",
    "\n",
    "create_posts_tabel = (\"\"\"\n",
    "DROP TABLE IF EXISTS Posts cascade;\n",
    "CREATE TABLE IF NOT EXISTS Posts (\n",
    "  id varchar(255),\n",
    "  image varchar(255),\n",
    "  likes int,\n",
    "  tags varchar(255) ARRAY,\n",
    "  text varchar(255),\n",
    "  publishDate date DEFAULT NULL,\n",
    "  user_id varchar(255),\n",
    "  page_id INT\n",
    ");\n",
    "\"\"\")\n",
    "\n",
    "create_comments_tabel = (\"\"\"\n",
    "DROP TABLE IF EXISTS Comments cascade;\n",
    "CREATE TABLE IF NOT EXISTS Comments (\n",
    "  id varchar(255),\n",
    "  message varchar(255),\n",
    "  user_id varchar(255),\n",
    "  post_id varchar(255),\n",
    "  publishDate date DEFAULT NULL,\n",
    "  page_id INT\n",
    ");\n",
    "\"\"\")\n",
    "\n",
    "# \"\"\"\n",
    "# Fact Table : pages related to posts\n",
    "# \"\"\"\n",
    "# create_pages_tabel = (\"\"\"\n",
    "# DROP TABLE IF EXISTS Pages cascade;\n",
    "# CREATE TABLE IF NOT EXISTS Pages (\n",
    "#   id INT PRIMARY KEY,\n",
    "#   post_id varchar(255)\n",
    "# );\n",
    "# \"\"\")\n",
    "\n",
    "set_data_null_raw_data = (\n",
    "    \"\"\"\n",
    "    UPDATE RawData rd\n",
    "    SET PublishDate = CASE WHEN rd.PublishDate =  '-INFINITY' THEN NULL ELSE rd.PublishDate END;\n",
    "    \"\"\"\n",
    "    )\n",
    "\n",
    "### Create the Staging Dimension Data Tables (Users, Locations) & Fact tables (Posts, Comments, Pages)\n",
    "cursor.execute(create_users_tabel)\n",
    "cursor.execute(create_locations_tabel)\n",
    "cursor.execute(create_comments_tabel)\n",
    "cursor.execute(create_posts_tabel)\n",
    "# cursor.execute(create_pages_tabel)\n",
    "#connection.commit()"
   ]
  },
  {
   "cell_type": "code",
   "execution_count": null,
   "metadata": {},
   "outputs": [],
   "source": [
    "# cursor.close()\n",
    "# connection.close()\n",
    "# posts\n",
    "# connection.commit()"
   ]
  },
  {
   "cell_type": "markdown",
   "metadata": {},
   "source": [
    "### Insert the Data Records (Staging Phase)"
   ]
  },
  {
   "cell_type": "code",
   "execution_count": null,
   "metadata": {},
   "outputs": [],
   "source": [
    "print(\"Data ingestion (staging) phase\")"
   ]
  },
  {
   "cell_type": "code",
   "execution_count": null,
   "metadata": {},
   "outputs": [],
   "source": [
    "def ingest_raw_user_data (raw_data, cursor, connection):\n",
    "    insert_row_RawData = (\n",
    "    \"\"\"\n",
    "    INSERT INTO UsersStage (    \n",
    "    id,\n",
    "    title,\n",
    "    firstName,\n",
    "    lastName,\n",
    "    picture,\n",
    "    gender,\n",
    "    email,\n",
    "    dateOfBirth,\n",
    "    phone,\n",
    "    location_id,\n",
    "    registerDate,\n",
    "    updatedDate\n",
    "    ) VALUES (%s, %s, %s, %s, %s,%s,%s, %s, %s, %s, %s,%s)\n",
    "    ON CONFLICT ON CONSTRAINT usersstage_pkey DO NOTHING;\n",
    "    \"\"\")\n",
    "    for index, row in raw_data.iterrows():                \n",
    "        row_ = tuple(row.to_list())\n",
    "        cursor.execute(insert_row_RawData, row_)\n",
    "        \n",
    "        \n",
    "def ingest_raw_location_data (raw_data, cursor, connection):\n",
    "    insert_row_RawData = (\n",
    "    \"\"\"\n",
    "    INSERT INTO LocationsStage (    \n",
    "    street,\n",
    "    city ,\n",
    "    state,\n",
    "    country,\n",
    "    timezone,\n",
    "    id\n",
    "    ) VALUES (%s, %s, %s, %s, %s,%s)\n",
    "    ON CONFLICT ON CONSTRAINT locationsstage_pkey DO NOTHING;\n",
    "    \"\"\")\n",
    "    for index, row in raw_data.iterrows():                \n",
    "        row_ = tuple(row.to_list())        \n",
    "        cursor.execute(insert_row_RawData, row_)\n",
    "        \n",
    "def ingest_raw_posts_data (raw_data, cursor, connection):\n",
    "    insert_row_RawData = (\n",
    "    \"\"\"\n",
    "    ALTER TABLE Posts\n",
    "    DROP CONSTRAINT IF EXISTS UniqSignPosts;\n",
    "    ALTER TABLE Posts\n",
    "    ADD CONSTRAINT UniqSignPosts UNIQUE (id );\n",
    "    INSERT INTO Posts (    \n",
    "    id ,\n",
    "    image,\n",
    "    likes,\n",
    "    tags ,\n",
    "    text ,\n",
    "    publishDate ,\n",
    "    user_id,\n",
    "    page_id\n",
    "    ) VALUES (%s, %s, %s, %s, %s,%s,%s,%s)\n",
    "    ON CONFLICT ON CONSTRAINT UniqSignPosts DO NOTHING;\n",
    "    \"\"\")\n",
    "    for index, row in raw_data.iterrows():                \n",
    "        row_ = tuple(row.to_list())\n",
    "        cursor.execute(insert_row_RawData, row_)\n",
    "        \n",
    "def ingest_raw_comments_data (raw_data, cursor, connection):\n",
    "    insert_row_RawData = (\n",
    "    \"\"\"\n",
    "    ALTER TABLE Comments\n",
    "    DROP CONSTRAINT IF EXISTS UniqSignComments;\n",
    "    ALTER TABLE Comments\n",
    "    ADD CONSTRAINT UniqSignComments UNIQUE (id );\n",
    "    INSERT INTO Comments (    \n",
    "    id,\n",
    "    message,\n",
    "    user_id,\n",
    "    post_id,\n",
    "    publishDate,\n",
    "    page_id\n",
    "    ) VALUES (%s, %s, %s, %s, %s,%s)\n",
    "    ON CONFLICT ON CONSTRAINT UniqSignComments DO NOTHING;\n",
    "    \"\"\")\n",
    "    for index, row in raw_data.iterrows():                \n",
    "        row_ = tuple(row.to_list())\n",
    "        cursor.execute(insert_row_RawData, row_)\n",
    "        \n",
    "def ingest_raw_pages_data (raw_data, cursor, connection):\n",
    "    insert_row_RawData = (\n",
    "    \"\"\"\n",
    "    INSERT INTO Pages (    \n",
    "    id,\n",
    "    post_id\n",
    "    ) VALUES (%s, %s)\n",
    "    \"\"\")\n",
    "    for index, row in raw_data.iterrows():                \n",
    "        row_ = tuple(row.to_list())\n",
    "        cursor.execute(insert_row_RawData, row_)\n",
    "        \n",
    "ingest_raw_user_data (user, cursor, connection)    \n",
    "ingest_raw_posts_data (posts, cursor, connection)\n",
    "ingest_raw_location_data (locations, cursor, connection)\n",
    "ingest_raw_comments_data (comments, cursor, connection)\n",
    "# ingest_raw_pages_data (pages, cursor, connection)\n",
    "connection.commit()"
   ]
  },
  {
   "cell_type": "markdown",
   "metadata": {},
   "source": [
    "### Define the DW Dimensional Tables (Eliminate Duplication)"
   ]
  },
  {
   "cell_type": "code",
   "execution_count": null,
   "metadata": {},
   "outputs": [],
   "source": [
    "print(\"DW Dimensional Tables Definition ..\")"
   ]
  },
  {
   "cell_type": "code",
   "execution_count": null,
   "metadata": {},
   "outputs": [],
   "source": [
    "create_users_tabel = (\"\"\"\n",
    "DROP TABLE IF EXISTS Users cascade;\n",
    "CREATE TABLE IF NOT EXISTS Users (\n",
    "  id bigint GENERATED BY DEFAULT AS IDENTITY NOT NULL primary key, \n",
    "  old_id varchar(255),\n",
    "  title varchar(255),\n",
    "  firstName varchar(255),\n",
    "  lastName varchar(255),\n",
    "  picture varchar(255),\n",
    "  gender varchar(255),\n",
    "  email varchar(255),\n",
    "  dateOfBirth date DEFAULT NULL,\n",
    "  phone varchar(255),\n",
    "  location_id int,\n",
    "  registerDate date DEFAULT NULL,\n",
    "  updatedDate date DEFAULT NULL\n",
    ");\n",
    "\"\"\")\n",
    "\n",
    "create_locations_tabel = (\"\"\"\n",
    "DROP TABLE IF EXISTS Locations cascade;\n",
    "CREATE TABLE IF NOT EXISTS Locations (\n",
    "  id bigint GENERATED BY DEFAULT AS IDENTITY NOT NULL primary key,\n",
    "  old_id INT,\n",
    "  street varchar(255),\n",
    "  city varchar(255),\n",
    "  state varchar(255),\n",
    "  country varchar(255),\n",
    "  timezone varchar(255)\n",
    ");\n",
    "\"\"\")\n",
    "\n",
    "cursor.execute(create_users_tabel)\n",
    "cursor.execute(create_locations_tabel)"
   ]
  },
  {
   "cell_type": "markdown",
   "metadata": {},
   "source": [
    "### Populate DW Data Tables\n",
    "**Further sanity check for duplication by adding the respective constraints**"
   ]
  },
  {
   "cell_type": "code",
   "execution_count": null,
   "metadata": {},
   "outputs": [],
   "source": [
    "print(\"Populate DW Data Tables..\")"
   ]
  },
  {
   "cell_type": "code",
   "execution_count": null,
   "metadata": {},
   "outputs": [],
   "source": [
    "config_user =(\"\"\"\n",
    "\n",
    "ALTER TABLE Users\n",
    "    ADD CONSTRAINT UniqSignUsers UNIQUE (title, firstName, lastName, gender, email,dateOfBirth );\n",
    "\n",
    "INSERT INTO Users(\n",
    "      old_id,\n",
    "      title ,\n",
    "      firstName ,\n",
    "      lastName,\n",
    "      picture ,\n",
    "      gender ,\n",
    "      email,\n",
    "      dateOfBirth,\n",
    "      phone ,\n",
    "      location_id,\n",
    "      registerDate ,\n",
    "      updatedDate\n",
    "    ) \n",
    "SELECT   \n",
    "  id ,\n",
    "  title ,\n",
    "  firstName ,\n",
    "  lastName ,\n",
    "  picture ,\n",
    "  gender ,\n",
    "  email ,\n",
    "  dateOfBirth ,\n",
    "  phone ,\n",
    "  location_id ,\n",
    "  registerDate ,\n",
    "  updatedDate \n",
    "FROM UsersStage\n",
    "ON CONFLICT ON CONSTRAINT UniqSignUsers DO NOTHING;\n",
    "\"\"\")\n",
    "    \n",
    "config_location = (\"\"\"\n",
    "\n",
    "ALTER TABLE Locations\n",
    "    ADD CONSTRAINT UniqSignLocation UNIQUE (street,city, state,country);\n",
    "\n",
    "INSERT INTO Locations(\n",
    "    old_id ,\n",
    "    street,\n",
    "    city,\n",
    "    state,\n",
    "    country,\n",
    "    timezone\n",
    "    ) \n",
    "SELECT id, \n",
    "       street\n",
    "       ,city\n",
    "       ,state\n",
    "       ,country\n",
    "       ,timezone\n",
    "FROM LocationsStage\n",
    "ON CONFLICT ON CONSTRAINT UniqSignLocation DO NOTHING;\n",
    "\n",
    "\"\"\")\n",
    "\n",
    "cursor.execute(config_user)\n",
    "cursor.execute(config_location)\n",
    "connection.commit()"
   ]
  },
  {
   "cell_type": "markdown",
   "metadata": {},
   "source": [
    "### Update new Dimensional FK Ids on Fact Tables"
   ]
  },
  {
   "cell_type": "code",
   "execution_count": null,
   "metadata": {},
   "outputs": [],
   "source": [
    "print(\"Update Dimensional FK ids on Fact Tables\")"
   ]
  },
  {
   "cell_type": "code",
   "execution_count": null,
   "metadata": {},
   "outputs": [],
   "source": [
    "update_posts_user_id_FK = (\"\"\"\n",
    "        UPDATE posts\n",
    "        SET user_id = users.id\n",
    "        FROM users\n",
    "        WHERE users.old_id = posts.user_id;\n",
    "        ALTER TABLE posts\n",
    "        ALTER COLUMN user_id TYPE bigint USING user_id::bigint;\n",
    "        \"\"\")\n",
    "\n",
    "update_comments_user_id_FK = (\"\"\"\n",
    "        UPDATE comments\n",
    "        SET user_id = users.id\n",
    "        FROM users\n",
    "        WHERE users.old_id = comments.user_id;\n",
    "        ALTER TABLE comments\n",
    "        ALTER COLUMN user_id TYPE bigint USING user_id::bigint;\n",
    "        \"\"\")\n",
    " \n",
    "cursor.execute(update_posts_user_id_FK)\n",
    "cursor.execute(update_comments_user_id_FK)\n",
    "connection.commit()"
   ]
  },
  {
   "cell_type": "markdown",
   "metadata": {},
   "source": [
    "### Set PK on Posts & Comments"
   ]
  },
  {
   "cell_type": "code",
   "execution_count": null,
   "metadata": {},
   "outputs": [],
   "source": [
    "print(\"Set PK on Facts Tables\")"
   ]
  },
  {
   "cell_type": "code",
   "execution_count": null,
   "metadata": {},
   "outputs": [],
   "source": [
    "set_PK_posts = (\"\"\"\n",
    "        ALTER TABLE posts\n",
    "        ADD CONSTRAINT posts_pk PRIMARY KEY (id);\n",
    "        \"\"\")\n",
    "set_PK_comments = (\"\"\"\n",
    "        ALTER TABLE comments\n",
    "        ADD CONSTRAINT comments_pk PRIMARY KEY (id);\n",
    "        \"\"\")\n",
    "\n",
    "cursor.execute(set_PK_posts)\n",
    "cursor.execute(set_PK_comments)\n",
    "connection.commit()"
   ]
  },
  {
   "cell_type": "markdown",
   "metadata": {},
   "source": [
    "### Table Intercorrelation Definitions"
   ]
  },
  {
   "cell_type": "code",
   "execution_count": null,
   "metadata": {},
   "outputs": [],
   "source": [
    "print(\"Define correlations amognst tables\")"
   ]
  },
  {
   "cell_type": "code",
   "execution_count": null,
   "metadata": {},
   "outputs": [],
   "source": [
    "users_locations_many_to_one = (\"\"\"\n",
    "ALTER TABLE Users ADD FOREIGN KEY (location_id) REFERENCES  Locations(id);\n",
    "\"\"\")\n",
    "\n",
    "posts_users_many_to_one = (\"\"\"\n",
    "ALTER TABLE Posts ADD FOREIGN KEY (user_id) REFERENCES  Users(id);\n",
    "\"\"\")\n",
    "\n",
    "pages_posts_one_to_many = (\"\"\"\n",
    "ALTER TABLE Pages ADD FOREIGN KEY (post_id) REFERENCES  Posts(id);\n",
    "\"\"\")\n",
    "\n",
    "# comments_pages_many_to_one = (\"\"\"\n",
    "# ALTER TABLE Comments ADD FOREIGN KEY (page_id) REFERENCES  Pages(id);\n",
    "# \"\"\")\n",
    "\n",
    "comments_owner_many_to_one = (\"\"\"\n",
    "ALTER TABLE Comments ADD FOREIGN KEY (user_id) REFERENCES  Users(id);\n",
    "\"\"\")\n",
    "\n",
    "cursor.execute(users_locations_many_to_one)\n",
    "cursor.execute(posts_users_many_to_one)\n",
    "# cursor.execute(pages_posts_one_to_many)\n",
    "# cursor.execute(comments_pages_many_to_one)\n",
    "cursor.execute(comments_owner_many_to_one)\n",
    "connection.commit()"
   ]
  },
  {
   "cell_type": "markdown",
   "metadata": {},
   "source": [
    "### Data Modeling Finished : Perform the Queries"
   ]
  },
  {
   "cell_type": "markdown",
   "metadata": {},
   "source": [
    "#### The final data model looks like the above :"
   ]
  },
  {
   "cell_type": "markdown",
   "metadata": {},
   "source": [
    "<img src=\"DummyAPIDB Schema.png\" width=1600 height=1600 />"
   ]
  },
  {
   "cell_type": "code",
   "execution_count": null,
   "metadata": {},
   "outputs": [],
   "source": [
    "print(\"Perfoming Respective Queries\")"
   ]
  },
  {
   "cell_type": "code",
   "execution_count": null,
   "metadata": {},
   "outputs": [],
   "source": [
    "# --  How many new users are added daily?\n",
    "\n",
    "cursor.execute(\"\"\"\n",
    "select round(avg(new_users_added_daily),2) as avg_user_added from (\n",
    "select count(distinct(id)) as new_users_added_daily from users\n",
    "group by registerdate) as temp;\"\"\")\n",
    "print(\"How many new users are added daily?\")\n",
    "print(cursor.fetchall())\n",
    "\n",
    "# -- Which cities have the most activity, in terms of posts per day?\n",
    "\n",
    "cursor.execute(\"\"\"with posts_country as(\n",
    "select posts.id as post_ids, locations.city as city from posts\n",
    "left join users on users.id = posts.user_id\n",
    "left join locations on locations.id = users.location_id)\n",
    "select city, count(post_ids) as post_volumes from posts_country\n",
    "group by city\n",
    "order by post_volumes desc limit 10;\"\"\")\n",
    "print(\"Which cities have the most activity, in terms of posts per day?\")\n",
    "print(cursor.fetchall())\n",
    "\n",
    "# -- Which tags are most frequently encountered, across user posts?\n",
    "\n",
    "cursor.execute(\"\"\"select tags, count(*) as tags_volume_across_posts from posts\n",
    "group by tags\n",
    "having count(*) > 1\n",
    "order by tags_volume_across_posts desc limit 10;\"\"\")\n",
    "print(\"Which tags are most frequently encountered, across user posts?\")\n",
    "print(cursor.fetchall())\n",
    "\n",
    "# -- What is the median comment/post ratio amongst the users with the most posts\n",
    "\n",
    "cursor.execute(\"\"\"\n",
    "DROP FUNCTION IF EXISTS _final_median(INT);\n",
    "\n",
    "CREATE OR REPLACE FUNCTION _final_median(numeric[])\n",
    "   RETURNS numeric AS\n",
    "$$\n",
    "   SELECT AVG(val)\n",
    "   FROM (\n",
    "     SELECT val\n",
    "     FROM unnest($1) val\n",
    "     ORDER BY 1\n",
    "     LIMIT  2 - MOD(array_upper($1, 1), 2)\n",
    "     OFFSET CEIL(array_upper($1, 1) / 2.0) - 1\n",
    "   ) sub;\n",
    "$$\n",
    "LANGUAGE 'sql' IMMUTABLE;\n",
    "\n",
    "DROP AGGREGATE IF EXISTS median(numeric);\n",
    "\n",
    "CREATE AGGREGATE median(numeric) (\n",
    "  SFUNC=array_append,\n",
    "  STYPE=numeric[],\n",
    "  FINALFUNC=_final_median,\n",
    "  INITCOND='{}'\n",
    ");\n",
    "\n",
    "with user_comments_post as (\n",
    "select users.*,posts.id as posts_id,comments.id as comments_id from users\n",
    "left join comments on comments.user_id = users.id\n",
    "left join posts on posts.user_id = users.id)\n",
    "select round(median(comment_post_ratio),2) from (\n",
    "select id, count(distinct(comments_id))/count(distinct(posts_id)) as comment_post_ratio   from user_comments_post\n",
    "group by id\n",
    "order by count(posts_id) desc limit 10) as comment_post_ratio_;\"\"\")\n",
    "print(\"What is the median comment/post ratio amongst the users with the most posts?\")\n",
    "print(cursor.fetchall())\n",
    "# -- What is the average time between registration and first comment?\n",
    "\n",
    "cursor.execute(\"\"\"with user_comments as (\n",
    "select users.id as users_id, users.registerdate as users_registerdate, comments.publishdate as comment_publishdate, comments.id as comments_id from users\n",
    "left join comments on comments.user_id = users.id)\n",
    "select round(avg(diff_register_first_comment_publish_date),2) from (\n",
    "select users_id,min(comment_publishdate) -  min(users_registerdate) as diff_register_first_comment_publish_date from user_comments\n",
    "group by users_id) as user_comments_results\"\"\")\n",
    "print(\"What is the average time between registration and first comment?\")\n",
    "print(cursor.fetchall())\n",
    "print(\"#### the last query result is peculiar due to data source incosystency in defining the users registration dates !\")"
   ]
  },
  {
   "cell_type": "code",
   "execution_count": null,
   "metadata": {},
   "outputs": [
    {
     "name": "stderr",
     "output_type": "stream",
     "text": [
      "2022-04-04 16:52:30,470| ERROR   | Secsh channel 0 open FAILED: Connection timed out: Connect failed\n"
     ]
    }
   ],
   "source": [
    "cursor.close()\n",
    "connection.close()"
   ]
  },
  {
   "cell_type": "markdown",
   "metadata": {},
   "source": [
    "#### the last query result is peculiar due to data source incosystency in defining the users registration dates !"
   ]
  },
  {
   "cell_type": "markdown",
   "metadata": {},
   "source": [
    "### Apache - Airflow usability\n",
    "1. Monitoring Cron jobs\n",
    "2. transferring data from one place to other.\n",
    "3. Automating your DevOps operations.\n",
    "4. Periodically fetching data from websites and update the database for your awesome price comparison system.\n",
    "5. Data processing for recommendation based systems.\n",
    "6. Machine Learning Pipelines."
   ]
  },
  {
   "cell_type": "markdown",
   "metadata": {},
   "source": [
    "**Despite the fact that the current pipeline was performed from the scratch and in manuall manner**\n",
    "\n",
    "*One of the possible tools that could be leveraged for the unit testing about data validity as well as the data transformation to the final DW modeling could be open source-oriented packages like dbt*\n",
    "\n",
    "*The capabilities that dbt offers like snashots (roll-back operation to previous stages and monitoring of changes) \n",
    "could facilitate the ETL process especially in the production phases*\n",
    "\n",
    "*On the top of DBT, airflow could be plugeed in for monitoring the DBT unit test and triggered alerts whenever it's neccecary, making a full end-to-end monitorable ETL pipeline*"
   ]
  },
  {
   "cell_type": "markdown",
   "metadata": {},
   "source": [
    "### Airflow Operators \n",
    "* BashOperator - executes a bash command\n",
    "* PythonOperator - calls an arbitrary Python function\n",
    "* EmailOperator - sends an email\n",
    "* SimpleHttpOperator - sends an HTTP request\n",
    "* MySqlOperator, SqliteOperator, PostgresOperator, MsSqlOperator, OracleOperator, JdbcOperator, etc. - executes a SQL command\n",
    "* Sensor - waits for a certain time, file, database row, S3 key, etc…"
   ]
  }
 ],
 "metadata": {
  "kernelspec": {
   "display_name": "Python 3",
   "language": "python",
   "name": "python3"
  },
  "language_info": {
   "codemirror_mode": {
    "name": "ipython",
    "version": 3
   },
   "file_extension": ".py",
   "mimetype": "text/x-python",
   "name": "python",
   "nbconvert_exporter": "python",
   "pygments_lexer": "ipython3",
   "version": "3.10.3"
  }
 },
 "nbformat": 4,
 "nbformat_minor": 4
}
